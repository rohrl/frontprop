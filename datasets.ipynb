{
 "cells": [
  {
   "cell_type": "markdown",
   "id": "2838e8f7",
   "metadata": {},
   "source": [
    "# DATASETS PLAYGROUND"
   ]
  },
  {
   "cell_type": "code",
   "execution_count": 2,
   "id": "11205a86",
   "metadata": {},
   "outputs": [],
   "source": [
    "import numpy as np\n",
    "import matplotlib.pyplot as plt\n",
    "import math\n",
    "from scipy.spatial import distance\n",
    "from sklearn.metrics import mean_squared_error"
   ]
  },
  {
   "cell_type": "code",
   "execution_count": 74,
   "id": "8a2f41f5",
   "metadata": {},
   "outputs": [],
   "source": [
    "# plot one or more 2D matrices using heatmap\n",
    "# supports a 2D array, or flattened (uses DIMS to restore 1D to 2D)\n",
    "def plot_matrix(dims, *datas):\n",
    "    PLOTS_PER_ROW = 20\n",
    "    cols = min(len(datas), PLOTS_PER_ROW)\n",
    "    rows = math.ceil(len(datas)/PLOTS_PER_ROW)\n",
    "    fig = plt.figure(figsize=(cols,rows))\n",
    "    for i, data in enumerate(datas):\n",
    "        if data.shape != dims:\n",
    "            data = np.reshape(data, dims)\n",
    "        fig.add_subplot(rows, cols, i+1)\n",
    "        plt.imshow(data, cmap='gray')\n",
    "        plt.axis('off')\n",
    "        # plt.title(f\"#{i}\")\n",
    "    plt.show()"
   ]
  },
  {
   "cell_type": "markdown",
   "id": "ab5190a8",
   "metadata": {},
   "source": [
    "# MNIST"
   ]
  },
  {
   "cell_type": "code",
   "execution_count": 75,
   "id": "ffd47219",
   "metadata": {},
   "outputs": [],
   "source": [
    "import numpy as np\n",
    "import matplotlib.pyplot as plt\n",
    "\n",
    "import torchvision\n",
    "import torchvision.datasets as datasets\n",
    "\n",
    "from tqdm.notebook import tqdm\n"
   ]
  },
  {
   "cell_type": "code",
   "execution_count": 76,
   "id": "30514528",
   "metadata": {},
   "outputs": [],
   "source": [
    "mnist_trainset = datasets.MNIST(root='./data', train=True, download=True, transform=None)"
   ]
  },
  {
   "cell_type": "code",
   "execution_count": 77,
   "id": "96f1599a",
   "metadata": {},
   "outputs": [
    {
     "name": "stdout",
     "output_type": "stream",
     "text": [
      "Help on MNIST in module torchvision.datasets.mnist object:\n",
      "\n",
      "class MNIST(torchvision.datasets.vision.VisionDataset)\n",
      " |  MNIST(root: str, train: bool = True, transform: Optional[Callable] = None, target_transform: Optional[Callable] = None, download: bool = False) -> None\n",
      " |  \n",
      " |  `MNIST <http://yann.lecun.com/exdb/mnist/>`_ Dataset.\n",
      " |  \n",
      " |  Args:\n",
      " |      root (string): Root directory of dataset where ``MNIST/raw/train-images-idx3-ubyte``\n",
      " |          and  ``MNIST/raw/t10k-images-idx3-ubyte`` exist.\n",
      " |      train (bool, optional): If True, creates dataset from ``train-images-idx3-ubyte``,\n",
      " |          otherwise from ``t10k-images-idx3-ubyte``.\n",
      " |      download (bool, optional): If True, downloads the dataset from the internet and\n",
      " |          puts it in root directory. If dataset is already downloaded, it is not\n",
      " |          downloaded again.\n",
      " |      transform (callable, optional): A function/transform that  takes in an PIL image\n",
      " |          and returns a transformed version. E.g, ``transforms.RandomCrop``\n",
      " |      target_transform (callable, optional): A function/transform that takes in the\n",
      " |          target and transforms it.\n",
      " |  \n",
      " |  Method resolution order:\n",
      " |      MNIST\n",
      " |      torchvision.datasets.vision.VisionDataset\n",
      " |      torch.utils.data.dataset.Dataset\n",
      " |      typing.Generic\n",
      " |      builtins.object\n",
      " |  \n",
      " |  Methods defined here:\n",
      " |  \n",
      " |  __getitem__(self, index: int) -> Tuple[Any, Any]\n",
      " |      Args:\n",
      " |          index (int): Index\n",
      " |      \n",
      " |      Returns:\n",
      " |          tuple: (image, target) where target is index of the target class.\n",
      " |  \n",
      " |  __init__(self, root: str, train: bool = True, transform: Optional[Callable] = None, target_transform: Optional[Callable] = None, download: bool = False) -> None\n",
      " |      Initialize self.  See help(type(self)) for accurate signature.\n",
      " |  \n",
      " |  __len__(self) -> int\n",
      " |  \n",
      " |  download(self) -> None\n",
      " |      Download the MNIST data if it doesn't exist already.\n",
      " |  \n",
      " |  extra_repr(self) -> str\n",
      " |  \n",
      " |  ----------------------------------------------------------------------\n",
      " |  Readonly properties defined here:\n",
      " |  \n",
      " |  class_to_idx\n",
      " |  \n",
      " |  processed_folder\n",
      " |  \n",
      " |  raw_folder\n",
      " |  \n",
      " |  test_data\n",
      " |  \n",
      " |  test_labels\n",
      " |  \n",
      " |  train_data\n",
      " |  \n",
      " |  train_labels\n",
      " |  \n",
      " |  ----------------------------------------------------------------------\n",
      " |  Data and other attributes defined here:\n",
      " |  \n",
      " |  __parameters__ = ()\n",
      " |  \n",
      " |  classes = ['0 - zero', '1 - one', '2 - two', '3 - three', '4 - four', ...\n",
      " |  \n",
      " |  mirrors = ['http://yann.lecun.com/exdb/mnist/', 'https://ossci-dataset...\n",
      " |  \n",
      " |  resources = [('train-images-idx3-ubyte.gz', 'f68b3c2dcbeaaa9fbdd348bbd...\n",
      " |  \n",
      " |  test_file = 'test.pt'\n",
      " |  \n",
      " |  training_file = 'training.pt'\n",
      " |  \n",
      " |  ----------------------------------------------------------------------\n",
      " |  Methods inherited from torchvision.datasets.vision.VisionDataset:\n",
      " |  \n",
      " |  __repr__(self) -> str\n",
      " |      Return repr(self).\n",
      " |  \n",
      " |  ----------------------------------------------------------------------\n",
      " |  Methods inherited from torch.utils.data.dataset.Dataset:\n",
      " |  \n",
      " |  __add__(self, other: 'Dataset[T_co]') -> 'ConcatDataset[T_co]'\n",
      " |  \n",
      " |  ----------------------------------------------------------------------\n",
      " |  Data descriptors inherited from torch.utils.data.dataset.Dataset:\n",
      " |  \n",
      " |  __dict__\n",
      " |      dictionary for instance variables (if defined)\n",
      " |  \n",
      " |  __weakref__\n",
      " |      list of weak references to the object (if defined)\n",
      " |  \n",
      " |  ----------------------------------------------------------------------\n",
      " |  Data and other attributes inherited from torch.utils.data.dataset.Dataset:\n",
      " |  \n",
      " |  __orig_bases__ = (typing.Generic[+T_co],)\n",
      " |  \n",
      " |  ----------------------------------------------------------------------\n",
      " |  Class methods inherited from typing.Generic:\n",
      " |  \n",
      " |  __class_getitem__(params) from builtins.type\n",
      " |  \n",
      " |  __init_subclass__(*args, **kwargs) from builtins.type\n",
      " |      This method is called when a class is subclassed.\n",
      " |      \n",
      " |      The default implementation does nothing. It may be\n",
      " |      overridden to extend subclasses.\n",
      "\n"
     ]
    }
   ],
   "source": [
    "help(mnist_trainset)\n"
   ]
  },
  {
   "cell_type": "code",
   "execution_count": 78,
   "id": "9c122cb9",
   "metadata": {},
   "outputs": [
    {
     "name": "stderr",
     "output_type": "stream",
     "text": [
      "/usr/local/Cellar/jupyterlab/3.3.2/libexec/lib/python3.9/site-packages/torchvision/datasets/mnist.py:75: UserWarning: train_data has been renamed data\n",
      "  warnings.warn(\"train_data has been renamed data\")\n"
     ]
    },
    {
     "data": {
      "text/plain": [
       "(60000, 28, 28)"
      ]
     },
     "execution_count": 78,
     "metadata": {},
     "output_type": "execute_result"
    }
   ],
   "source": [
    "mnist_data = mnist_trainset.train_data.cpu().detach().numpy()\n",
    "mnist_data.shape"
   ]
  },
  {
   "cell_type": "code",
   "execution_count": 79,
   "id": "ca03c979",
   "metadata": {},
   "outputs": [
    {
     "name": "stderr",
     "output_type": "stream",
     "text": [
      "/usr/local/Cellar/jupyterlab/3.3.2/libexec/lib/python3.9/site-packages/torchvision/datasets/mnist.py:65: UserWarning: train_labels has been renamed targets\n",
      "  warnings.warn(\"train_labels has been renamed targets\")\n"
     ]
    },
    {
     "data": {
      "text/plain": [
       "(60000,)"
      ]
     },
     "execution_count": 79,
     "metadata": {},
     "output_type": "execute_result"
    }
   ],
   "source": [
    "mnist_labels = mnist_trainset.train_labels.cpu().detach().numpy()\n",
    "mnist_labels.shape"
   ]
  },
  {
   "cell_type": "code",
   "execution_count": null,
   "id": "c672387f",
   "metadata": {},
   "outputs": [],
   "source": []
  },
  {
   "cell_type": "code",
   "execution_count": 90,
   "id": "5322a577",
   "metadata": {},
   "outputs": [
    {
     "data": {
      "image/png": "[encoded data removed]",
      "text/plain": [
       "<Figure size 720x72 with 10 Axes>"
      ]
     },
     "metadata": {
      "needs_background": "light"
     },
     "output_type": "display_data"
    }
   ],
   "source": [
    "# draw a bunch\n",
    "plot_matrix([28,28], *mnist_data[:10])"
   ]
  },
  {
   "cell_type": "code",
   "execution_count": 91,
   "id": "347beea5",
   "metadata": {},
   "outputs": [],
   "source": [
    "\n",
    "def get_label(idx):\n",
    "    return mnist_labels[idx]\n"
   ]
  },
  {
   "cell_type": "code",
   "execution_count": 92,
   "id": "bbd98f02",
   "metadata": {},
   "outputs": [
    {
     "name": "stdout",
     "output_type": "stream",
     "text": [
      "Samples count for digit 0: 5923.0\n",
      "Samples count for digit 1: 6742.0\n",
      "Samples count for digit 2: 5958.0\n",
      "Samples count for digit 3: 6131.0\n",
      "Samples count for digit 4: 5842.0\n",
      "Samples count for digit 5: 5421.0\n",
      "Samples count for digit 6: 5918.0\n",
      "Samples count for digit 7: 6265.0\n",
      "Samples count for digit 8: 5851.0\n",
      "Samples count for digit 9: 5949.0\n"
     ]
    },
    {
     "data": {
      "image/png": "[encoded data removed]",
      "text/plain": [
       "<Figure size 720x72 with 10 Axes>"
      ]
     },
     "metadata": {
      "needs_background": "light"
     },
     "output_type": "display_data"
    }
   ],
   "source": [
    "# squash all samples per class onto single image\n",
    "\n",
    "squashed = []\n",
    "samples_count_per_class = np.zeros(10) # also count samples per class\n",
    "samples_count = len(mnist_data)\n",
    "\n",
    "for i in range(10):\n",
    "    squashed.append(np.zeros(shape=[28,28]))\n",
    "\n",
    "for i, d in enumerate(mnist_data):\n",
    "    digit = get_label(i)\n",
    "    samples_count_per_class[digit] += 1\n",
    "    s = squashed[digit]\n",
    "    squashed[digit] = s + d / 256\n",
    "    \n",
    "for d in squashed:\n",
    "    d = d / samples_count\n",
    "    \n",
    "\n",
    "for i, d in enumerate(squashed):\n",
    "    print(f\"Samples count for digit {i}: {samples_count_per_class[i]}\")\n",
    "    \n",
    "plot_matrix([28,28], *squashed)"
   ]
  },
  {
   "cell_type": "code",
   "execution_count": 95,
   "id": "9a52430c",
   "metadata": {},
   "outputs": [
    {
     "data": {
      "image/png": "[encoded data removed]",
      "text/plain": [
       "<Figure size 720x72 with 10 Axes>"
      ]
     },
     "metadata": {
      "needs_background": "light"
     },
     "output_type": "display_data"
    }
   ],
   "source": [
    "def get_input(idx):\n",
    "    # normalise to be between 0 and 1\n",
    "    return mnist_data[idx] / 256.0\n",
    "\n",
    "# labels can be extra row(s) in the image\n",
    "label_rows = np.zeros(shape=[10,28])\n",
    "for i in range(10):\n",
    "    # 2 pixels per label \n",
    "    label_rows[i][i*2] = 1.0\n",
    "    label_rows[i][i*2+1] = 1.0\n",
    "    \n",
    "# print(label_rows)\n",
    "\n",
    "LABEL_BAND_HEIGHT = 5\n",
    "def get_input_with_label(idx):\n",
    "    image = get_input(idx)\n",
    "    digit = get_label(idx)\n",
    "    label_row = label_rows[digit]\n",
    "    # add N extra rows at the top\n",
    "    label_band = np.vstack([label_row] * LABEL_BAND_HEIGHT)\n",
    "    return np.vstack([label_band, image])\n",
    "\n",
    "# show few\n",
    "plot_matrix([28+LABEL_BAND_HEIGHT,28], *[get_input_with_label(i) for i in range(10)])\n",
    "\n",
    "    "
   ]
  },
  {
   "cell_type": "code",
   "execution_count": 96,
   "id": "d84177c7",
   "metadata": {},
   "outputs": [
    {
     "name": "stdout",
     "output_type": "stream",
     "text": [
      "(60000, 28, 28)\n",
      "(60000,)\n"
     ]
    }
   ],
   "source": [
    "# optionally reduce the number of classes to specific digits\n",
    "enabled_classes = set(range(10)) # set([6,9]) #\n",
    "\n",
    "new_data = []\n",
    "new_labels = []\n",
    "if len(enabled_classes) < 10:\n",
    "    for i, l in enumerate(mnist_labels):\n",
    "        if l in enabled_classes:\n",
    "            new_data.append(mnist_data[i])\n",
    "            new_labels.append(l)\n",
    "    \n",
    "    mnist_data = np.array(new_data)\n",
    "    mnist_labels = np.array(new_labels)\n",
    "\n",
    "print(mnist_data.shape)\n",
    "print(mnist_labels.shape)"
   ]
  },
  {
   "cell_type": "markdown",
   "id": "4c1ce878",
   "metadata": {},
   "source": [
    "# CIFAR"
   ]
  },
  {
   "cell_type": "code",
   "execution_count": 109,
   "id": "0270f08e",
   "metadata": {},
   "outputs": [
    {
     "name": "stdout",
     "output_type": "stream",
     "text": [
      "Downloading https://www.cs.toronto.edu/~kriz/cifar-10-python.tar.gz to ./data/cifar-10-torch/cifar-10-python.tar.gz\n"
     ]
    },
    {
     "name": "stderr",
     "output_type": "stream",
     "text": [
      " 96%|████████████████████████████████████████████████████████████████████████████████████████████████████████    | 164303899/170498071 [19:04<00:43, 143616.56it/s]\n"
     ]
    },
    {
     "ename": "RuntimeError",
     "evalue": "File not found or corrupted.",
     "output_type": "error",
     "traceback": [
      "\u001b[0;31m---------------------------------------------------------------------------\u001b[0m",
      "\u001b[0;31mRuntimeError\u001b[0m                              Traceback (most recent call last)",
      "Input \u001b[0;32mIn [109]\u001b[0m, in \u001b[0;36m<cell line: 1>\u001b[0;34m()\u001b[0m\n\u001b[0;32m----> 1\u001b[0m \u001b[43mdatasets\u001b[49m\u001b[38;5;241;43m.\u001b[39;49m\u001b[43mCIFAR10\u001b[49m\u001b[43m(\u001b[49m\u001b[43mroot\u001b[49m\u001b[43m \u001b[49m\u001b[38;5;241;43m=\u001b[39;49m\u001b[43m \u001b[49m\u001b[38;5;124;43m'\u001b[39;49m\u001b[38;5;124;43m./data/cifar-10-torch\u001b[39;49m\u001b[38;5;124;43m'\u001b[39;49m\u001b[43m,\u001b[49m\u001b[43m \u001b[49m\u001b[43mtrain\u001b[49m\u001b[43m \u001b[49m\u001b[38;5;241;43m=\u001b[39;49m\u001b[43m \u001b[49m\u001b[38;5;28;43;01mTrue\u001b[39;49;00m\u001b[43m,\u001b[49m\u001b[43m \u001b[49m\u001b[43mtransform\u001b[49m\u001b[43m \u001b[49m\u001b[38;5;241;43m=\u001b[39;49m\u001b[43m \u001b[49m\u001b[38;5;28;43;01mNone\u001b[39;49;00m\u001b[43m,\u001b[49m\u001b[43m \u001b[49m\u001b[43mdownload\u001b[49m\u001b[43m \u001b[49m\u001b[38;5;241;43m=\u001b[39;49m\u001b[43m \u001b[49m\u001b[38;5;28;43;01mTrue\u001b[39;49;00m\u001b[43m)\u001b[49m\n",
      "File \u001b[0;32m/usr/local/Cellar/jupyterlab/3.3.2/libexec/lib/python3.9/site-packages/torchvision/datasets/cifar.py:65\u001b[0m, in \u001b[0;36mCIFAR10.__init__\u001b[0;34m(self, root, train, transform, target_transform, download)\u001b[0m\n\u001b[1;32m     62\u001b[0m \u001b[38;5;28mself\u001b[39m\u001b[38;5;241m.\u001b[39mtrain \u001b[38;5;241m=\u001b[39m train  \u001b[38;5;66;03m# training set or test set\u001b[39;00m\n\u001b[1;32m     64\u001b[0m \u001b[38;5;28;01mif\u001b[39;00m download:\n\u001b[0;32m---> 65\u001b[0m     \u001b[38;5;28;43mself\u001b[39;49m\u001b[38;5;241;43m.\u001b[39;49m\u001b[43mdownload\u001b[49m\u001b[43m(\u001b[49m\u001b[43m)\u001b[49m\n\u001b[1;32m     67\u001b[0m \u001b[38;5;28;01mif\u001b[39;00m \u001b[38;5;129;01mnot\u001b[39;00m \u001b[38;5;28mself\u001b[39m\u001b[38;5;241m.\u001b[39m_check_integrity():\n\u001b[1;32m     68\u001b[0m     \u001b[38;5;28;01mraise\u001b[39;00m \u001b[38;5;167;01mRuntimeError\u001b[39;00m(\u001b[38;5;124m\"\u001b[39m\u001b[38;5;124mDataset not found or corrupted. You can use download=True to download it\u001b[39m\u001b[38;5;124m\"\u001b[39m)\n",
      "File \u001b[0;32m/usr/local/Cellar/jupyterlab/3.3.2/libexec/lib/python3.9/site-packages/torchvision/datasets/cifar.py:141\u001b[0m, in \u001b[0;36mCIFAR10.download\u001b[0;34m(self)\u001b[0m\n\u001b[1;32m    139\u001b[0m     \u001b[38;5;28mprint\u001b[39m(\u001b[38;5;124m\"\u001b[39m\u001b[38;5;124mFiles already downloaded and verified\u001b[39m\u001b[38;5;124m\"\u001b[39m)\n\u001b[1;32m    140\u001b[0m     \u001b[38;5;28;01mreturn\u001b[39;00m\n\u001b[0;32m--> 141\u001b[0m \u001b[43mdownload_and_extract_archive\u001b[49m\u001b[43m(\u001b[49m\u001b[38;5;28;43mself\u001b[39;49m\u001b[38;5;241;43m.\u001b[39;49m\u001b[43murl\u001b[49m\u001b[43m,\u001b[49m\u001b[43m \u001b[49m\u001b[38;5;28;43mself\u001b[39;49m\u001b[38;5;241;43m.\u001b[39;49m\u001b[43mroot\u001b[49m\u001b[43m,\u001b[49m\u001b[43m \u001b[49m\u001b[43mfilename\u001b[49m\u001b[38;5;241;43m=\u001b[39;49m\u001b[38;5;28;43mself\u001b[39;49m\u001b[38;5;241;43m.\u001b[39;49m\u001b[43mfilename\u001b[49m\u001b[43m,\u001b[49m\u001b[43m \u001b[49m\u001b[43mmd5\u001b[49m\u001b[38;5;241;43m=\u001b[39;49m\u001b[38;5;28;43mself\u001b[39;49m\u001b[38;5;241;43m.\u001b[39;49m\u001b[43mtgz_md5\u001b[49m\u001b[43m)\u001b[49m\n",
      "File \u001b[0;32m/usr/local/Cellar/jupyterlab/3.3.2/libexec/lib/python3.9/site-packages/torchvision/datasets/utils.py:446\u001b[0m, in \u001b[0;36mdownload_and_extract_archive\u001b[0;34m(url, download_root, extract_root, filename, md5, remove_finished)\u001b[0m\n\u001b[1;32m    443\u001b[0m \u001b[38;5;28;01mif\u001b[39;00m \u001b[38;5;129;01mnot\u001b[39;00m filename:\n\u001b[1;32m    444\u001b[0m     filename \u001b[38;5;241m=\u001b[39m os\u001b[38;5;241m.\u001b[39mpath\u001b[38;5;241m.\u001b[39mbasename(url)\n\u001b[0;32m--> 446\u001b[0m \u001b[43mdownload_url\u001b[49m\u001b[43m(\u001b[49m\u001b[43murl\u001b[49m\u001b[43m,\u001b[49m\u001b[43m \u001b[49m\u001b[43mdownload_root\u001b[49m\u001b[43m,\u001b[49m\u001b[43m \u001b[49m\u001b[43mfilename\u001b[49m\u001b[43m,\u001b[49m\u001b[43m \u001b[49m\u001b[43mmd5\u001b[49m\u001b[43m)\u001b[49m\n\u001b[1;32m    448\u001b[0m archive \u001b[38;5;241m=\u001b[39m os\u001b[38;5;241m.\u001b[39mpath\u001b[38;5;241m.\u001b[39mjoin(download_root, filename)\n\u001b[1;32m    449\u001b[0m \u001b[38;5;28mprint\u001b[39m(\u001b[38;5;124mf\u001b[39m\u001b[38;5;124m\"\u001b[39m\u001b[38;5;124mExtracting \u001b[39m\u001b[38;5;132;01m{\u001b[39;00marchive\u001b[38;5;132;01m}\u001b[39;00m\u001b[38;5;124m to \u001b[39m\u001b[38;5;132;01m{\u001b[39;00mextract_root\u001b[38;5;132;01m}\u001b[39;00m\u001b[38;5;124m\"\u001b[39m)\n",
      "File \u001b[0;32m/usr/local/Cellar/jupyterlab/3.3.2/libexec/lib/python3.9/site-packages/torchvision/datasets/utils.py:167\u001b[0m, in \u001b[0;36mdownload_url\u001b[0;34m(url, root, filename, md5, max_redirect_hops)\u001b[0m\n\u001b[1;32m    165\u001b[0m \u001b[38;5;66;03m# check integrity of downloaded file\u001b[39;00m\n\u001b[1;32m    166\u001b[0m \u001b[38;5;28;01mif\u001b[39;00m \u001b[38;5;129;01mnot\u001b[39;00m check_integrity(fpath, md5):\n\u001b[0;32m--> 167\u001b[0m     \u001b[38;5;28;01mraise\u001b[39;00m \u001b[38;5;167;01mRuntimeError\u001b[39;00m(\u001b[38;5;124m\"\u001b[39m\u001b[38;5;124mFile not found or corrupted.\u001b[39m\u001b[38;5;124m\"\u001b[39m)\n",
      "\u001b[0;31mRuntimeError\u001b[0m: File not found or corrupted."
     ]
    }
   ],
   "source": [
    "\n",
    "datasets.CIFAR10(root = './data/cifar-10-torch', train = True, transform = None, download = True)\n"
   ]
  },
  {
   "cell_type": "markdown",
   "id": "53f6c63e",
   "metadata": {},
   "source": [
    "# CATS & DOGS"
   ]
  },
  {
   "cell_type": "code",
   "execution_count": 105,
   "id": "c4e5384c",
   "metadata": {},
   "outputs": [],
   "source": [
    "import torch \n",
    "from torchvision import datasets, transforms\n",
    "from torchvision.transforms.functional import crop\n",
    "\n"
   ]
  },
  {
   "cell_type": "code",
   "execution_count": 47,
   "id": "84516417",
   "metadata": {},
   "outputs": [],
   "source": [
    "test_dataset = datasets.ImageFolder('./data/kagglecatsanddogs_5340/PetImages/', \n",
    "                               transform=transforms.Compose([\n",
    "                                 transforms.Resize(255),\n",
    "                                 transforms.CenterCrop(224),\n",
    "                                 transforms.Grayscale(1),\n",
    "                                 #transforms.ToPILImage(),\n",
    "                                 transforms.RandomAutocontrast(1.0), # values will be between 0 and 1\n",
    "                                 transforms.ToTensor()\n",
    "                               ]))\n",
    "\n",
    "test_dataloader = torch.utils.data.DataLoader(test_dataset, batch_size=1, shuffle=True)\n"
   ]
  },
  {
   "cell_type": "code",
   "execution_count": 53,
   "id": "59052700",
   "metadata": {},
   "outputs": [
    {
     "data": {
      "text/plain": [
       "Dataset ImageFolder\n",
       "    Number of datapoints: 25000\n",
       "    Root location: ./data/kagglecatsanddogs_5340/PetImages/\n",
       "    StandardTransform\n",
       "Transform: Compose(\n",
       "               Resize(size=255, interpolation=bilinear, max_size=None, antialias=None)\n",
       "               CenterCrop(size=(224, 224))\n",
       "               Grayscale(num_output_channels=1)\n",
       "               RandomAutocontrast(p=1.0)\n",
       "               ToTensor()\n",
       "           )"
      ]
     },
     "execution_count": 53,
     "metadata": {},
     "output_type": "execute_result"
    }
   ],
   "source": [
    "test_dataset"
   ]
  },
  {
   "cell_type": "code",
   "execution_count": 54,
   "id": "3c569ca7",
   "metadata": {},
   "outputs": [],
   "source": [
    "test_dataset = torch.utils.data.DataLoader(test_dataset, batch_size=1, shuffle=True)\n"
   ]
  },
  {
   "cell_type": "code",
   "execution_count": 62,
   "id": "02577fb8",
   "metadata": {},
   "outputs": [
    {
     "data": {
      "text/plain": [
       "(-0.5, 223.5, 223.5, -0.5)"
      ]
     },
     "execution_count": 62,
     "metadata": {},
     "output_type": "execute_result"
    },
    {
     "data": {
      "image/png": "[encoded data removed]",
      "text/plain": [
       "<Figure size 432x288 with 1 Axes>"
      ]
     },
     "metadata": {
      "needs_background": "light"
     },
     "output_type": "display_data"
    }
   ],
   "source": [
    "\n",
    "def get_cats_dogs_sample_crop():\n",
    "    img = None\n",
    "    while img is None:\n",
    "        try:\n",
    "            images, labels = next(iter(test_dataset))\n",
    "            # converty to numpy 2D array\n",
    "            img = images[0].cpu().detach().numpy().squeeze()\n",
    "            #print(img.shape)\n",
    "        except:\n",
    "            pass\n",
    "    return img\n",
    "\n",
    "img = get_cats_dogs_sample_crop()\n",
    "#plt.figure(figsize=(10,10))\n",
    "plt.imshow(img, cmap='gray')\n",
    "plt.axis('off')"
   ]
  },
  {
   "cell_type": "code",
   "execution_count": null,
   "id": "a95ae429",
   "metadata": {},
   "outputs": [],
   "source": []
  },
  {
   "cell_type": "markdown",
   "id": "afe5de30",
   "metadata": {},
   "source": [
    "## ENTROPY\n"
   ]
  },
  {
   "cell_type": "code",
   "execution_count": 141,
   "id": "6ce912a4",
   "metadata": {},
   "outputs": [],
   "source": [
    "import torch\n",
    "import scipy"
   ]
  },
  {
   "cell_type": "code",
   "execution_count": 106,
   "id": "1d6a5756",
   "metadata": {},
   "outputs": [],
   "source": [
    "data = np.zeros(shape=(100,10))\n"
   ]
  },
  {
   "cell_type": "code",
   "execution_count": null,
   "id": "f9107230",
   "metadata": {},
   "outputs": [],
   "source": []
  },
  {
   "cell_type": "code",
   "execution_count": 111,
   "id": "8ee0c7ba",
   "metadata": {},
   "outputs": [],
   "source": [
    "# create 1-hot vectors\n",
    "for i in range(data.shape[0]):\n",
    "    data[i,...][np.random.randint(data.shape[1])] = 1"
   ]
  },
  {
   "cell_type": "code",
   "execution_count": null,
   "id": "1dacca0c",
   "metadata": {},
   "outputs": [],
   "source": [
    "scipy.stats.entropy(pk,"
   ]
  },
  {
   "cell_type": "code",
   "execution_count": null,
   "id": "301acc38",
   "metadata": {},
   "outputs": [],
   "source": [
    "\n"
   ]
  },
  {
   "cell_type": "code",
   "execution_count": 119,
   "id": "8d9f9b8d",
   "metadata": {},
   "outputs": [],
   "source": [
    "# torch.tensor([-1,1,2,0,.4])\n",
    "\n",
    "ent = []\n",
    "for i in range(100):\n",
    "    e = torch.special.entr(torch.randn(10))\n",
    "    ent.append(e)\n",
    "\n",
    "# print(ent)\n",
    "# plt.hist(ent, density=True, bins=30)  "
   ]
  },
  {
   "cell_type": "code",
   "execution_count": null,
   "id": "448fe705",
   "metadata": {},
   "outputs": [],
   "source": []
  },
  {
   "cell_type": "code",
   "execution_count": 147,
   "id": "7e32e4cf",
   "metadata": {},
   "outputs": [],
   "source": [
    "\"\"\"\n",
    "calculate discrete entropy by binning values\n",
    "\"\"\"\n",
    "def entropy(numbers, range=(0, 1)):\n",
    "    h, bin_edges = np.histogram(numbers, bins=100, density=False, range=range)\n",
    "    h = h / h.max() # normalise\n",
    "    entropy = scipy.stats.entropy(h)\n",
    "    return entropy\n"
   ]
  },
  {
   "cell_type": "code",
   "execution_count": 161,
   "id": "ba092428",
   "metadata": {},
   "outputs": [
    {
     "data": {
      "text/plain": [
       "(array([ 5.,  9., 15., 25., 20., 14.,  6.,  4.,  1.,  1.]),\n",
       " array([0.30229835, 0.35345444, 0.40461052, 0.45576661, 0.5069227 ,\n",
       "        0.55807879, 0.60923487, 0.66039096, 0.71154705, 0.76270313,\n",
       "        0.81385922]),\n",
       " <BarContainer object of 10 artists>)"
      ]
     },
     "execution_count": 161,
     "metadata": {},
     "output_type": "execute_result"
    },
    {
     "data": {
      "image/png": "[encoded data removed]",
      "text/plain": [
       "<Figure size 432x288 with 1 Axes>"
      ]
     },
     "metadata": {
      "needs_background": "light"
     },
     "output_type": "display_data"
    }
   ],
   "source": [
    "numbers = np.random.normal(loc=0.5, scale=0.1, size=(100))\n",
    "#np.histogram(numbers)\n",
    "plt.hist(numbers)"
   ]
  },
  {
   "cell_type": "code",
   "execution_count": 153,
   "id": "0c033882",
   "metadata": {},
   "outputs": [
    {
     "data": {
      "text/plain": [
       "3.4195310174687212"
      ]
     },
     "execution_count": 153,
     "metadata": {},
     "output_type": "execute_result"
    }
   ],
   "source": [
    "entropy(numbers)\n"
   ]
  },
  {
   "cell_type": "code",
   "execution_count": 197,
   "id": "6016a67a",
   "metadata": {},
   "outputs": [
    {
     "name": "stdout",
     "output_type": "stream",
     "text": [
      "Entropy of 100 numbers:\n",
      "Zeros: 0.0\n",
      "Ones: 0.0\n",
      "One-hot: 0.056001534354847345\n",
      "One-cold: 0.056001534354847345\n",
      "Two-hot: 0.098039113279732\n",
      "Three-hot: 0.13474216817976667\n",
      "Half-hot: 0.6931471805599453\n",
      "Uniform: 3.9724362406430194\n",
      "Normal: 3.4506548854270274\n"
     ]
    }
   ],
   "source": [
    "print(\"Entropy of 100 numbers:\")\n",
    "print(f\"Zeros: {entropy(np.zeros(100))}\")\n",
    "print(f\"Ones: {entropy(np.ones(100))}\")\n",
    "print(f\"One-hot: {entropy(np.eye(100)[np.random.randint(100)])}\")\n",
    "print(f\"One-cold: {entropy((1-np.eye(100))[np.random.randint(100)])}\")\n",
    "print(f\"Two-hot: {entropy(np.concatenate([np.ones(2), np.zeros(98)]))}\")\n",
    "print(f\"Three-hot: {entropy(np.concatenate([np.ones(3), np.zeros(97)]))}\")\n",
    "print(f\"Half-hot: {entropy(np.concatenate([np.zeros(50), np.ones(50)]))}\")\n",
    "print(f\"Uniform: {entropy(np.random.rand(100))}\")\n",
    "print(f\"Normal: {entropy(np.random.normal(loc=0.5, scale=0.1, size=(100)))}\")"
   ]
  },
  {
   "cell_type": "code",
   "execution_count": null,
   "id": "01e761ad",
   "metadata": {},
   "outputs": [],
   "source": []
  },
  {
   "cell_type": "markdown",
   "id": "04f8d8fa",
   "metadata": {},
   "source": [
    "## Use Torch to build CNN\n",
    "\n",
    "Example from:\n",
    "\n",
    "https://www.geeksforgeeks.org/cnn-introduction-to-pooling-layer/#:~:text=Max%20pooling%20is%20a%20pooling,of%20the%20previous%20feature%20map.\n",
    "\n",
    "Docs:\n",
    "* https://pytorch.org/docs/stable/generated/torch.nn.functional.max_pool2d.html#torch.nn.functional.max_pool2d\n",
    "* https://pytorch.org/docs/stable/generated/torch.nn.functional.conv2d.html#torch.nn.functional.conv2d\n"
   ]
  },
  {
   "cell_type": "code",
   "execution_count": null,
   "id": "dfaa9689",
   "metadata": {},
   "outputs": [],
   "source": []
  },
  {
   "cell_type": "code",
   "execution_count": 142,
   "id": "45f68c9a",
   "metadata": {},
   "outputs": [],
   "source": []
  },
  {
   "cell_type": "markdown",
   "id": "d15f6359",
   "metadata": {},
   "source": [
    "### MAX POOLING"
   ]
  },
  {
   "cell_type": "code",
   "execution_count": null,
   "id": "041e428a",
   "metadata": {},
   "outputs": [],
   "source": [
    "import torch\n",
    "import torch.nn as nn\n",
    "import torch.nn.functional as F"
   ]
  },
  {
   "cell_type": "code",
   "execution_count": 65,
   "id": "f7723736",
   "metadata": {},
   "outputs": [
    {
     "name": "stdout",
     "output_type": "stream",
     "text": [
      "[[[2 2 7 3]\n",
      "  [9 4 6 1]\n",
      "  [8 5 2 4]\n",
      "  [3 1 2 6]]]\n",
      "torch.Size([1, 1, 4, 4])\n",
      "tensor([[[[9., 7.],\n",
      "          [8., 6.]]]])\n",
      "tensor([[9., 7.],\n",
      "        [8., 6.]])\n"
     ]
    }
   ],
   "source": [
    "\n",
    "\n",
    "# define input image\n",
    "image = np.array([[2, 2, 7, 3],\n",
    "                  [9, 4, 6, 1],\n",
    "                  [8, 5, 2, 4],\n",
    "                  [3, 1, 2, 6]])\n",
    "\n",
    "image = image.reshape(1, 4, 4)\n",
    "\n",
    "print(image)\n",
    "  \n",
    "# Keras:\n",
    "# define model containing just a single max pooling layer\n",
    "# model = Sequential(\n",
    "#     [MaxPooling2D(pool_size = 2, strides = 2)])\n",
    "# # generate pooled output\n",
    "# output = model.predict(image)\n",
    "# # print output image\n",
    "# output = np.squeeze(output)\n",
    "# print(output)\n",
    "\n",
    "# input – input tensor of shape (minibatch,in_channels,iH,iW)\n",
    "input = torch.from_numpy(image).unsqueeze(dim=0).float()\n",
    "print(input.shape)\n",
    "\n",
    "# pool of square window of size=3, stride=2\n",
    "# m = nn.MaxPool2d(2, stride=2)\n",
    "output_torch = F.max_pool2d(input, 2, stride=2, padding=0)\n",
    "\n",
    "# pool of non-square window\n",
    "# m = nn.MaxPool2d((3, 2), stride=(2, 1))\n",
    "# input = torch.randn(20, 16, 50, 32)\n",
    "# output_torch = m(input)\n",
    "\n",
    "print(output_torch)\n",
    "\n",
    "output = np.squeeze(output_torch)\n",
    "\n",
    "print(output)\n"
   ]
  },
  {
   "cell_type": "markdown",
   "id": "a583770a",
   "metadata": {},
   "source": [
    "### CONV 2D"
   ]
  },
  {
   "cell_type": "code",
   "execution_count": 99,
   "id": "9ce857e0",
   "metadata": {},
   "outputs": [
    {
     "name": "stdout",
     "output_type": "stream",
     "text": [
      "torch.Size([1, 1, 3, 3])\n",
      "torch.Size([1, 1, 3, 3])\n",
      "tensor([[[[3.]]]])\n",
      "torch.Size([1, 1, 1, 1])\n",
      "3.0\n"
     ]
    }
   ],
   "source": [
    "# This is pluggable into Neuron class as a similarity function\n",
    "# (I believe it uses dot product under the hood, so no benefit - i've already tried it)\n",
    "\n",
    "dims = (3,3)\n",
    "pattern = np.array([[1,0,0],[0,1,0],[0,0,1]]).flatten()\n",
    "kernel = np.array([[1,0,0],[0,1,0],[0,0,1]]).flatten()\n",
    "\n",
    "def torch_conv2d_similarity(dims, pattern, kernel):\n",
    "    pt = torch.tensor(pattern).reshape(1,1,dims[0],dims[1]).float()\n",
    "    kt = torch.tensor(kernel).reshape(1,1,dims[0],dims[1]).float()\n",
    "    print(pt.shape)\n",
    "    print(kt.shape)\n",
    "\n",
    "    outt = F.conv2d(pt, kt, bias=None, stride=1, padding=0, dilation=1, groups=1)\n",
    "\n",
    "    print(outt)\n",
    "    print(outt.shape)\n",
    "\n",
    "    assert outt.shape == (1,1,1,1)\n",
    "    signal = outt.view(-1).numpy()[0]\n",
    "    \n",
    "    return signal\n",
    "    \n",
    "    \n",
    "print(torch_conv2d_similarity(dims, pattern, kernel))"
   ]
  },
  {
   "cell_type": "code",
   "execution_count": 78,
   "id": "499a64eb",
   "metadata": {},
   "outputs": [
    {
     "name": "stdout",
     "output_type": "stream",
     "text": [
      "tensor([[[[1., 0., 0., 0., 0., 0., 1.],\n",
      "          [0., 1., 0., 0., 0., 1., 0.],\n",
      "          [0., 0., 1., 0., 1., 0., 0.],\n",
      "          [0., 0., 0., 1., 0., 0., 0.],\n",
      "          [0., 0., 1., 0., 1., 0., 0.],\n",
      "          [0., 1., 0., 0., 0., 1., 0.],\n",
      "          [1., 0., 0., 0., 0., 0., 1.]]]])\n",
      "torch.Size([1, 1, 7, 7])\n",
      "torch.Size([3, 1, 3, 3])\n",
      "tensor([[[[3., 0., 1., 0., 1.],\n",
      "          [0., 3., 0., 1., 0.],\n",
      "          [1., 0., 3., 0., 1.],\n",
      "          [0., 1., 0., 3., 0.],\n",
      "          [1., 0., 1., 0., 3.]],\n",
      "\n",
      "         [[0., 0., 0., 0., 0.],\n",
      "          [0., 0., 0., 0., 0.],\n",
      "          [0., 0., 0., 0., 0.],\n",
      "          [0., 0., 0., 0., 0.],\n",
      "          [0., 0., 0., 0., 0.]],\n",
      "\n",
      "         [[3., 2., 2., 2., 3.],\n",
      "          [2., 3., 3., 3., 2.],\n",
      "          [2., 3., 5., 3., 2.],\n",
      "          [2., 3., 3., 3., 2.],\n",
      "          [3., 2., 2., 2., 3.]]]])\n",
      "torch.Size([1, 3, 5, 5])\n"
     ]
    }
   ],
   "source": [
    "\n",
    "pattern = torch.tensor([\n",
    "    [1,0,0,0,0,0,1],\n",
    "    [0,1,0,0,0,1,0],\n",
    "    [0,0,1,0,1,0,0],\n",
    "    [0,0,0,1,0,0,0],\n",
    "    [0,0,1,0,1,0,0],\n",
    "    [0,1,0,0,0,1,0],\n",
    "    [1,0,0,0,0,0,1]\n",
    "]).float().unsqueeze(dim=0).unsqueeze(dim=0)\n",
    "\n",
    "print(pattern)\n",
    "print(pattern.shape)\n",
    "\n",
    "kernels = torch.tensor([\n",
    "    \n",
    "    [[1,0,0],[0,1,0],[0,0,1]],\n",
    "    [[0,0,0],[0,0,0],[0,0,0]],\n",
    "    [[1,1,1],[1,1,1],[1,1,1]]\n",
    "    \n",
    "]).float().unsqueeze(dim=1)\n",
    "\n",
    "print(kernels.shape)\n",
    "\n",
    "# input - tensor of shape (minibatch,in_channels,iH,iW)\n",
    "# weight – filters of shape (out_channels, in_channels/groups,kH,kW)\n",
    "output_torch = F.conv2d(pattern, kernels, bias=None, stride=1, padding=0, dilation=1, groups=1)\n",
    "\n",
    "print(output_torch)\n",
    "print(output_torch.shape)\n"
   ]
  },
  {
   "cell_type": "code",
   "execution_count": 75,
   "id": "b23c008e",
   "metadata": {},
   "outputs": [
    {
     "name": "stdout",
     "output_type": "stream",
     "text": [
      "tensor([[[[0.7529, 0.7569, 0.7647,  ..., 0.8353, 0.8392, 0.8353],\n",
      "          [0.7725, 0.7686, 0.7647,  ..., 0.8314, 0.8471, 0.8392],\n",
      "          [0.7843, 0.7804, 0.7804,  ..., 0.8431, 0.8392, 0.8314],\n",
      "          ...,\n",
      "          [0.3804, 0.3765, 0.3843,  ..., 0.7216, 0.7294, 0.7137],\n",
      "          [0.3843, 0.3608, 0.3569,  ..., 0.7255, 0.7333, 0.7294],\n",
      "          [0.3647, 0.3490, 0.3529,  ..., 0.7451, 0.7333, 0.7451]]]])\n",
      "torch.Size([1, 1, 224, 224])\n",
      "torch.Size([3, 1, 3, 3])\n",
      "tensor([[[[2.3020, 2.2902, 2.2902,  ..., 2.5176, 2.5020, 2.5137],\n",
      "          [2.3490, 2.3412, 2.3176,  ..., 2.5333, 2.5216, 2.5020],\n",
      "          [2.3725, 2.3725, 2.3686,  ..., 2.5647, 2.5333, 2.5176],\n",
      "          ...,\n",
      "          [1.1333, 1.1608, 1.2000,  ..., 2.2196, 2.2196, 2.1922],\n",
      "          [1.1137, 1.1255, 1.1843,  ..., 2.1922, 2.2000, 2.1922],\n",
      "          [1.0941, 1.0980, 1.1412,  ..., 2.1804, 2.1765, 2.2000]],\n",
      "\n",
      "         [[0.0000, 0.0000, 0.0000,  ..., 0.0000, 0.0000, 0.0000],\n",
      "          [0.0000, 0.0000, 0.0000,  ..., 0.0000, 0.0000, 0.0000],\n",
      "          [0.0000, 0.0000, 0.0000,  ..., 0.0000, 0.0000, 0.0000],\n",
      "          ...,\n",
      "          [0.0000, 0.0000, 0.0000,  ..., 0.0000, 0.0000, 0.0000],\n",
      "          [0.0000, 0.0000, 0.0000,  ..., 0.0000, 0.0000, 0.0000],\n",
      "          [0.0000, 0.0000, 0.0000,  ..., 0.0000, 0.0000, 0.0000]],\n",
      "\n",
      "         [[6.9255, 6.9137, 6.9137,  ..., 7.5608, 7.5529, 7.5412],\n",
      "          [7.0392, 7.0078, 6.9804,  ..., 7.6196, 7.5843, 7.5451],\n",
      "          [7.0980, 7.0902, 7.0706,  ..., 7.6824, 7.6275, 7.5608],\n",
      "          ...,\n",
      "          [3.4000, 3.4667, 3.6275,  ..., 6.6510, 6.6275, 6.5608],\n",
      "          [3.3569, 3.4000, 3.5490,  ..., 6.5373, 6.5451, 6.5176],\n",
      "          [3.3098, 3.3373, 3.4510,  ..., 6.5216, 6.5647, 6.5765]]]])\n",
      "torch.Size([1, 3, 222, 222])\n"
     ]
    }
   ],
   "source": [
    "\n",
    "# input – input tensor of shape (minibatch,in_channels,iH,iW)\n",
    "input = torch.from_numpy(img).unsqueeze(dim=0).unsqueeze(dim=0)\n",
    "print(input)\n",
    "print(input.shape)\n",
    "\n",
    "kernels = torch.tensor([\n",
    "    \n",
    "    [[1,0,0],[0,1,0],[0,0,1]],\n",
    "    [[0,0,0],[0,0,0],[0,0,0]],\n",
    "    [[1,1,1],[1,1,1],[1,1,1]]\n",
    "    \n",
    "]).float().unsqueeze(dim=1)\n",
    "\n",
    "print(kernels.shape)\n",
    "\n",
    "# input - tensor of shape (minibatch,in_channels,iH,iW)\n",
    "# weight – filters of shape (out_channels, in_channels/groups,kH,kW)\n",
    "output_torch = F.conv2d(input, kernels, bias=None, stride=1, padding=0, dilation=1, groups=1)\n",
    "\n",
    "print(output_torch)\n",
    "print(output_torch.shape)\n",
    "\n",
    "# output = np.squeeze(output_torch)\n",
    "\n",
    "# eg\n",
    "# # With square kernels and equal stride\n",
    "# filters = torch.randn(8, 4, 3, 3)\n",
    "# inputs = torch.randn(1, 4, 5, 5)\n",
    "# F.conv2d(inputs, filters, padding=1)"
   ]
  },
  {
   "cell_type": "markdown",
   "id": "059d9171",
   "metadata": {},
   "source": [
    "### Conv + MaxPool on an image"
   ]
  },
  {
   "cell_type": "code",
   "execution_count": 81,
   "id": "946a7180",
   "metadata": {},
   "outputs": [
    {
     "name": "stdout",
     "output_type": "stream",
     "text": [
      "INPUT tensor([[[[0.7529, 0.7569, 0.7647,  ..., 0.8353, 0.8392, 0.8353],\n",
      "          [0.7725, 0.7686, 0.7647,  ..., 0.8314, 0.8471, 0.8392],\n",
      "          [0.7843, 0.7804, 0.7804,  ..., 0.8431, 0.8392, 0.8314],\n",
      "          ...,\n",
      "          [0.3804, 0.3765, 0.3843,  ..., 0.7216, 0.7294, 0.7137],\n",
      "          [0.3843, 0.3608, 0.3569,  ..., 0.7255, 0.7333, 0.7294],\n",
      "          [0.3647, 0.3490, 0.3529,  ..., 0.7451, 0.7333, 0.7451]]]])\n",
      "torch.Size([1, 1, 224, 224])\n",
      "KERNELS torch.Size([3, 1, 3, 3])\n",
      "OUTPUT_CONV tensor([[[[2.3020, 2.2902, 2.2902,  ..., 2.5176, 2.5020, 2.5137],\n",
      "          [2.3490, 2.3412, 2.3176,  ..., 2.5333, 2.5216, 2.5020],\n",
      "          [2.3725, 2.3725, 2.3686,  ..., 2.5647, 2.5333, 2.5176],\n",
      "          ...,\n",
      "          [1.1333, 1.1608, 1.2000,  ..., 2.2196, 2.2196, 2.1922],\n",
      "          [1.1137, 1.1255, 1.1843,  ..., 2.1922, 2.2000, 2.1922],\n",
      "          [1.0941, 1.0980, 1.1412,  ..., 2.1804, 2.1765, 2.2000]],\n",
      "\n",
      "         [[0.0000, 0.0000, 0.0000,  ..., 0.0000, 0.0000, 0.0000],\n",
      "          [0.0000, 0.0000, 0.0000,  ..., 0.0000, 0.0000, 0.0000],\n",
      "          [0.0000, 0.0000, 0.0000,  ..., 0.0000, 0.0000, 0.0000],\n",
      "          ...,\n",
      "          [0.0000, 0.0000, 0.0000,  ..., 0.0000, 0.0000, 0.0000],\n",
      "          [0.0000, 0.0000, 0.0000,  ..., 0.0000, 0.0000, 0.0000],\n",
      "          [0.0000, 0.0000, 0.0000,  ..., 0.0000, 0.0000, 0.0000]],\n",
      "\n",
      "         [[6.9255, 6.9137, 6.9137,  ..., 7.5608, 7.5529, 7.5412],\n",
      "          [7.0392, 7.0078, 6.9804,  ..., 7.6196, 7.5843, 7.5451],\n",
      "          [7.0980, 7.0902, 7.0706,  ..., 7.6824, 7.6275, 7.5608],\n",
      "          ...,\n",
      "          [3.4000, 3.4667, 3.6275,  ..., 6.6510, 6.6275, 6.5608],\n",
      "          [3.3569, 3.4000, 3.5490,  ..., 6.5373, 6.5451, 6.5176],\n",
      "          [3.3098, 3.3373, 3.4510,  ..., 6.5216, 6.5647, 6.5765]]]])\n",
      "torch.Size([1, 3, 222, 222])\n",
      "OUTPUT_MAXPOOL tensor([[[[2.3490, 2.3176, 2.3255,  ..., 2.6000, 2.5529, 2.5216],\n",
      "          [2.3725, 2.3725, 2.3451,  ..., 2.5804, 2.5843, 2.5569],\n",
      "          [2.3294, 2.3451, 2.3373,  ..., 2.4549, 2.5294, 2.5451],\n",
      "          ...,\n",
      "          [1.2039, 1.2784, 1.2588,  ..., 2.2196, 2.2235, 2.2078],\n",
      "          [1.1647, 1.2824, 1.3490,  ..., 2.2157, 2.2235, 2.2235],\n",
      "          [1.1255, 1.2353, 1.3059,  ..., 2.1765, 2.1922, 2.2000]],\n",
      "\n",
      "         [[0.0000, 0.0000, 0.0000,  ..., 0.0000, 0.0000, 0.0000],\n",
      "          [0.0000, 0.0000, 0.0000,  ..., 0.0000, 0.0000, 0.0000],\n",
      "          [0.0000, 0.0000, 0.0000,  ..., 0.0000, 0.0000, 0.0000],\n",
      "          ...,\n",
      "          [0.0000, 0.0000, 0.0000,  ..., 0.0000, 0.0000, 0.0000],\n",
      "          [0.0000, 0.0000, 0.0000,  ..., 0.0000, 0.0000, 0.0000],\n",
      "          [0.0000, 0.0000, 0.0000,  ..., 0.0000, 0.0000, 0.0000]],\n",
      "\n",
      "         [[7.0392, 6.9804, 6.9843,  ..., 7.7294, 7.6667, 7.5843],\n",
      "          [7.0980, 7.0784, 7.0471,  ..., 7.6627, 7.7059, 7.6353],\n",
      "          [7.0157, 7.0196, 7.0118,  ..., 7.4235, 7.5490, 7.5804],\n",
      "          ...,\n",
      "          [3.7020, 3.8275, 3.7216,  ..., 6.5961, 6.6471, 6.6588],\n",
      "          [3.4863, 3.8000, 3.9569,  ..., 6.6275, 6.7176, 6.6980],\n",
      "          [3.4000, 3.7216, 3.9176,  ..., 6.5647, 6.5373, 6.5765]]]])\n",
      "torch.Size([1, 3, 111, 111])\n"
     ]
    }
   ],
   "source": [
    "input = torch.from_numpy(img).unsqueeze(dim=0).unsqueeze(dim=0)\n",
    "print(\"INPUT\", input)\n",
    "print(input.shape)\n",
    "\n",
    "kernels = torch.tensor([\n",
    "    \n",
    "    [[1,0,0],[0,1,0],[0,0,1]],\n",
    "    [[0,0,0],[0,0,0],[0,0,0]],\n",
    "    [[1,1,1],[1,1,1],[1,1,1]]\n",
    "    \n",
    "]).float().unsqueeze(dim=1)\n",
    "\n",
    "print(\"KERNELS\", kernels.shape)\n",
    "\n",
    "# CONV 2D\n",
    "# input - tensor of shape (minibatch,in_channels,iH,iW)\n",
    "# weight – filters of shape (out_channels, in_channels/groups,kH,kW)\n",
    "output_conv = F.conv2d(input, kernels, bias=None, stride=1, padding=0, dilation=1, groups=1)\n",
    "\n",
    "print(\"OUTPUT_CONV\", output_conv)\n",
    "print(output_conv.shape)\n",
    "\n",
    "# MAX POOL 2D\n",
    "output_maxpool = F.max_pool2d(output_conv, 2, stride=2, padding=0)\n",
    "\n",
    "print(\"OUTPUT_MAXPOOL\", output_maxpool)\n",
    "print(output_maxpool.shape)\n",
    "\n",
    "output = np.squeeze(output_maxpool)\n"
   ]
  },
  {
   "cell_type": "code",
   "execution_count": null,
   "id": "398d260a",
   "metadata": {},
   "outputs": [],
   "source": []
  }
 ],
 "metadata": {
  "kernelspec": {
   "display_name": "Python 3 (ipykernel)",
   "language": "python",
   "name": "python3"
  },
  "language_info": {
   "codemirror_mode": {
    "name": "ipython",
    "version": 3
   },
   "file_extension": ".py",
   "mimetype": "text/x-python",
   "name": "python",
   "nbconvert_exporter": "python",
   "pygments_lexer": "ipython3",
   "version": "3.9.13"
  }
 },
 "nbformat": 4,
 "nbformat_minor": 5
}
