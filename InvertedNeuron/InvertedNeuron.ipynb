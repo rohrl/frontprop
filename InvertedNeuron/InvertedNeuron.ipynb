{
 "cells": [
  {
   "attachments": {},
   "cell_type": "markdown",
   "metadata": {},
   "source": [
    "### Description\n",
    "\n",
    "This notebook implements a basic neuron using a modified signal. i.e. instead of calculating signal as:\n",
    "\n",
    "`signal = 1/mean_squared_error(neuron_weights, input_pattern)`\n",
    "\n",
    "The InvertedNeuron calculates it as \n",
    "\n",
    "`signal = mean_squared_error(neuron_weights, input_pattern)`\n",
    "\n",
    "This only required a slight modification in the weight and threshold update logic. The most notable difference being the Neuron now activates when `signal <= threshold` instead of when `signal >= threshold` which makes threshold an upper bound rather than a lower bound.\n",
    "\n",
    "The main motivation for the InvertedNeuron is efficiency. The original Neuron required a threshold which could approach infinity. This is very inefficient and does not scale well to large datasets since the threshold grows proportionally to the size of the dataset.\n",
    "\n",
    "Additionally, the InvertedNeuron experiments with using smaller, more efficient datatypes such as `np.float16`.\n",
    "Currently the improvements offered by the InvertedNeuron are backed only by intuition. More work needs to be done to compare the InvertedNeuron to the original Neuron."
   ]
  },
  {
   "cell_type": "code",
   "execution_count": 2,
   "metadata": {},
   "outputs": [],
   "source": [
    "from sklearn.metrics import mean_squared_error\n",
    "import numpy as np\n",
    "import math"
   ]
  },
  {
   "cell_type": "code",
   "execution_count": 3,
   "metadata": {},
   "outputs": [],
   "source": [
    "class InvertedNeuron:\n",
    "    \n",
    "    float_type = np.float16\n",
    "    \n",
    "    def __init__(self, dims, t_decay, w_boost, init=np.random.rand):\n",
    "        assert len(dims) == 2\n",
    "        self.dims = dims\n",
    "        \n",
    "        # initialize neuron\n",
    "        self.t = InvertedNeuron.float_type(1.0)\n",
    "        self.W = init(*dims).flatten().astype(InvertedNeuron.float_type)\n",
    "        \n",
    "        self.t_decay = InvertedNeuron.float_type(t_decay)\n",
    "        self.w_boost = InvertedNeuron.float_type(w_boost)\n",
    "        \n",
    "        assert self.t_decay > 0\n",
    "        assert self.w_boost > 0\n",
    "        \n",
    "    def get_output(self):\n",
    "        return self.signal           \n",
    "        \n",
    "    def forward(self, data):\n",
    "        assert data.shape == np.prod(self.dims)\n",
    "        \n",
    "        self.signal = InvertedNeuron.float_type(mean_squared_error(data, self.W))\n",
    "        \n",
    "        ''' \n",
    "        Logic:\n",
    "        - if pattern and neuron weights are similar then signal approaches 0\n",
    "        - if pattern and neuron weights are different then signal approaches 1\n",
    "        \n",
    "        Thus, neuron activation/excitement is redefined as if signal <= threshold\n",
    "        \n",
    "        If excited: modify weights to be more similar to input pattern and decrease threshold\n",
    "        If not excited: increase threshold\n",
    "        '''\n",
    "        self.excited = self.signal <= self.t\n",
    "        \n",
    "        if self.excited:\n",
    "            self.t = (InvertedNeuron.float_type(1) + self.t_decay) * self.signal # decrease\n",
    "            self.W += self.w_boost * (data - self.W) # shift weights towards data\n",
    "        else:\n",
    "            self.t = (InvertedNeuron.float_type(1) + self.t_decay) * self.t # increase\n",
    "\n",
    "        self.out = self.get_output()\n",
    "        return self.out\n",
    "    \n"
   ]
  },
  {
   "cell_type": "code",
   "execution_count": 4,
   "metadata": {},
   "outputs": [],
   "source": [
    "from collections import deque\n",
    "import matplotlib.pyplot as plt\n",
    "\n",
    "\n",
    "np.set_printoptions(formatter={'float': lambda x: \"{0:0.2f}\".format(x)})\n",
    "\n",
    "# plot the 2D matrix heatmap\n",
    "# supports a 2D array, or flattened (uses DIMS to restore 1D to 2D)\n",
    "def plot_matrix(dims, *datas):\n",
    "    PLOTS_PER_ROW = 20\n",
    "    cols = min(len(datas), PLOTS_PER_ROW)\n",
    "    rows = math.ceil(len(datas)/PLOTS_PER_ROW)\n",
    "    fig = plt.figure(figsize=(cols,rows))\n",
    "    for i, data in enumerate(datas):\n",
    "        if data.shape != dims:\n",
    "            data = np.reshape(data, dims)\n",
    "        fig.add_subplot(rows, cols, i+1)\n",
    "        plt.imshow(data, cmap='gray')\n",
    "        plt.axis('off')\n",
    "        # plt.title(f\"#{i}\")\n",
    "    plt.show()\n",
    "    \n",
    "    "
   ]
  },
  {
   "cell_type": "code",
   "execution_count": 5,
   "metadata": {},
   "outputs": [],
   "source": [
    "# Define input patterns\n",
    "\n",
    "DIMS = [7,7]\n",
    "\n",
    "patterns = np.array([\n",
    "    np.array([\n",
    "        [1,0,0,0,0,0,1],\n",
    "        [0,1,0,0,0,1,0],\n",
    "        [0,0,1,0,1,0,0],\n",
    "        [0,0,0,1,0,0,0],\n",
    "        [0,0,1,0,1,0,0],\n",
    "        [0,1,0,0,0,1,0],\n",
    "        [1,0,0,0,0,0,1]\n",
    "    ]),\n",
    "    np.array([\n",
    "        [0,0,0,1,0,0,0],\n",
    "        [0,0,0,1,0,0,0],\n",
    "        [0,0,0,1,0,0,0],\n",
    "        [1,1,1,1,1,1,1],\n",
    "        [0,0,0,1,0,0,0],\n",
    "        [0,0,0,1,0,0,0],\n",
    "        [0,0,0,1,0,0,0]\n",
    "    ]),\n",
    "    np.array([\n",
    "        [0,0,1,1,1,0,0],\n",
    "        [0,1,0,0,0,1,0],\n",
    "        [1,0,0,0,0,0,1],\n",
    "        [1,0,0,0,0,0,1],\n",
    "        [1,0,0,0,0,0,1],\n",
    "        [0,1,0,0,0,1,0],\n",
    "        [0,0,1,1,1,0,0]\n",
    "    ]),\n",
    "    np.array([\n",
    "        [0,1,0,0,0,0,0],\n",
    "        [0,1,0,0,0,0,0],\n",
    "        [0,1,0,0,0,0,0],\n",
    "        [0,1,0,0,0,0,0],\n",
    "        [0,1,0,0,0,0,0],\n",
    "        [0,1,0,0,0,0,0],\n",
    "        [0,1,0,0,0,0,0]\n",
    "    ]),\n",
    "    np.array([\n",
    "        [1,1,1,0,0,0,0],\n",
    "        [1,1,1,0,0,0,0],\n",
    "        [1,1,1,0,0,0,0],\n",
    "        [0,0,0,0,0,0,0],\n",
    "        [0,0,0,0,0,0,0],\n",
    "        [0,0,0,0,0,0,0],\n",
    "        [0,0,0,0,0,0,0]\n",
    "    ])\n",
    "# np.array([\n",
    "# [0,1,1,0],\n",
    "# [1,0,0,1],\n",
    "# [1,0,0,1],\n",
    "# [0,1,1,0]\n",
    "# ])\n",
    "])\n",
    "\n",
    "# Define probabilities\n",
    "\n",
    "probs = np.full(len(patterns), 1) # np.array([0.43 0.43 0.13])\n",
    "probs = probs / probs.sum()\n",
    "\n",
    "def randomly_choose_input_idx(iteration):\n",
    "    return np.random.choice(len(probs), p=probs)\n",
    "\n"
   ]
  },
  {
   "cell_type": "code",
   "execution_count": 6,
   "metadata": {},
   "outputs": [
    {
     "name": "stdout",
     "output_type": "stream",
     "text": [
      "\n",
      "----------------\n",
      "Running frontprop on following patterns:\n"
     ]
    },
    {
     "data": {
      "image/png": "[encoded data removed]",
      "text/plain": [
       "<Figure size 360x72 with 5 Axes>"
      ]
     },
     "metadata": {
      "needs_background": "light"
     },
     "output_type": "display_data"
    },
    {
     "name": "stdout",
     "output_type": "stream",
     "text": [
      "with probabilities:\n",
      "[0.20 0.20 0.20 0.20 0.20]\n",
      " ... and noise prob 0\n",
      "\n",
      "\n",
      "\n",
      " --- Iter #0 --- \n",
      "Neurons' weights:\n"
     ]
    },
    {
     "data": {
      "image/png": "[encoded data removed]",
      "text/plain": [
       "<Figure size 72x72 with 1 Axes>"
      ]
     },
     "metadata": {
      "needs_background": "light"
     },
     "output_type": "display_data"
    },
    {
     "name": "stdout",
     "output_type": "stream",
     "text": [
      "[0.74 0.53 0.80 0.60 0.54 0.48 0.28 0.85 0.79 0.68 0.26 0.62 0.96 0.18\n",
      " 0.42 0.02 0.87 0.15 0.10 0.82 0.15 0.91 0.79 0.72 0.27 0.76 0.66 0.20\n",
      " 0.68 0.32 0.36 0.07 0.58 0.49 0.84 0.84 0.53 0.66 0.11 0.57 0.40 0.68\n",
      " 0.48 0.95 0.78 0.21 0.40 0.15 0.21] float16\n",
      "Layer outputs:\n",
      "0.3826\n",
      "Threshold:\n",
      "0.3845 float16\n",
      "\n",
      " --- Iter #500 --- \n",
      "Neurons' weights:\n"
     ]
    },
    {
     "data": {
      "image/png": "[encoded data removed]",
      "text/plain": [
       "<Figure size 72x72 with 1 Axes>"
      ]
     },
     "metadata": {
      "needs_background": "light"
     },
     "output_type": "display_data"
    },
    {
     "name": "stdout",
     "output_type": "stream",
     "text": [
      "[0.27 0.20 0.93 0.84 0.83 0.17 0.10 0.31 0.93 0.25 0.09 0.22 0.98 0.06\n",
      " 0.79 0.02 0.32 0.05 0.03 0.29 0.69 0.95 0.28 0.26 0.10 0.27 0.24 0.71\n",
      " 0.88 0.12 0.13 0.02 0.20 0.17 0.93 0.30 0.83 0.24 0.04 0.20 0.78 0.24\n",
      " 0.17 0.34 0.91 0.71 0.78 0.05 0.08] float16\n",
      "Layer outputs:\n",
      "0.326\n",
      "Threshold:\n",
      "0.03986 float16\n",
      "\n",
      " --- Iter #1000 --- \n",
      "Neurons' weights:\n"
     ]
    },
    {
     "data": {
      "image/png": "[encoded data removed]",
      "text/plain": [
       "<Figure size 72x72 with 1 Axes>"
      ]
     },
     "metadata": {
      "needs_background": "light"
     },
     "output_type": "display_data"
    },
    {
     "name": "stdout",
     "output_type": "stream",
     "text": [
      "[0.10 0.08 0.98 0.94 0.93 0.06 0.04 0.12 0.97 0.09 0.04 0.08 0.98 0.02\n",
      " 0.92 0.01 0.12 0.02 0.01 0.11 0.88 0.98 0.11 0.10 0.04 0.10 0.09 0.89\n",
      " 0.95 0.04 0.05 0.01 0.08 0.07 0.98 0.11 0.93 0.09 0.01 0.08 0.91 0.09\n",
      " 0.06 0.13 0.97 0.89 0.91 0.02 0.03] float16\n",
      "Layer outputs:\n",
      "0.3804\n",
      "Threshold:\n",
      "0.005844 float16\n",
      "\n",
      " --- Iter #1500 --- \n",
      "Neurons' weights:\n"
     ]
    },
    {
     "data": {
      "image/png": "[encoded data removed]",
      "text/plain": [
       "<Figure size 72x72 with 1 Axes>"
      ]
     },
     "metadata": {
      "needs_background": "light"
     },
     "output_type": "display_data"
    },
    {
     "name": "stdout",
     "output_type": "stream",
     "text": [
      "[0.04 0.03 0.98 0.98 0.98 0.02 0.01 0.04 0.98 0.04 0.01 0.03 0.98 0.01\n",
      " 0.97 0.00 0.04 0.01 0.00 0.04 0.95 0.98 0.04 0.04 0.01 0.04 0.03 0.96\n",
      " 0.98 0.02 0.02 0.00 0.03 0.02 0.98 0.04 0.98 0.03 0.01 0.03 0.97 0.03\n",
      " 0.02 0.05 0.98 0.96 0.97 0.01 0.01] float16\n",
      "Layer outputs:\n",
      "0.3647\n",
      "Threshold:\n",
      "0.0008683 float16\n"
     ]
    }
   ],
   "source": [
    "ITERS = 2000\n",
    "VERBOSE = False\n",
    "DRAW_INTERVAL = 500\n",
    "# Throw in some noise inputs \n",
    "# (without noise at zero, it converges very quickly - noise rate increases slows down learning exponentially!)\n",
    "NOISE_INPUTS_PROB = 0 # 0.02\n",
    "\n",
    "neuron = InvertedNeuron(DIMS,  0.005,  0.01)\n",
    "\n",
    "print(\"\\n----------------\\nRunning frontprop on following patterns:\")\n",
    "plot_matrix(DIMS, *patterns)\n",
    "print(f\"with probabilities:\\n{probs}\\n ... and noise prob {NOISE_INPUTS_PROB}\\n\\n\")\n",
    "\n",
    "for i in range(ITERS):\n",
    "    \n",
    "    if np.random.rand() < NOISE_INPUTS_PROB:\n",
    "        input = np.random.rand(*DIMS).flatten()\n",
    "    else:\n",
    "        input_idx = randomly_choose_input_idx(i)\n",
    "        input = patterns[input_idx].flatten()\n",
    "    \n",
    "    if VERBOSE:\n",
    "        print(f\"Iter #{i}: Feeding input pattern #{input_idx}\")\n",
    "        print(input)\n",
    "        plot_matrix(input)\n",
    "        \n",
    "    out = neuron.forward(input)\n",
    "    \n",
    "    if i % DRAW_INTERVAL == 0:\n",
    "        print(f\"\\n --- Iter #{i} --- \")\n",
    "        print(\"Neurons' weights:\")\n",
    "        plot_matrix(neuron.dims, neuron.W)\n",
    "        print(neuron.W, neuron.W.dtype)\n",
    "        print(\"Layer outputs:\")\n",
    "        print(out)\n",
    "        print(\"Threshold:\")\n",
    "        print(neuron.t, neuron.t.dtype)\n",
    "    "
   ]
  },
  {
   "attachments": {},
   "cell_type": "markdown",
   "metadata": {},
   "source": [
    "### Random Notes \n",
    "\n",
    "Let N be the length of the input vector\n",
    "\n",
    "if input/weight vector values are in [0,1] => mean_squared_error in [0, 1] => 1/mean_squared_error in [1, inf]\n",
    "\n",
    "When W highly similar to data:\n",
    "- mean_squared_error -> 0\n",
    "- signal = 1/mean_squared_error -> inf\n",
    "\n",
    "When W has zero similarity to data:\n",
    "- mean_squared_error -> 1\n",
    "- 1/mean_squared_error -> 1"
   ]
  },
  {
   "cell_type": "markdown",
   "metadata": {},
   "source": []
  }
 ],
 "metadata": {
  "kernelspec": {
   "display_name": "Python 3",
   "language": "python",
   "name": "python3"
  },
  "language_info": {
   "codemirror_mode": {
    "name": "ipython",
    "version": 3
   },
   "file_extension": ".py",
   "mimetype": "text/x-python",
   "name": "python",
   "nbconvert_exporter": "python",
   "pygments_lexer": "ipython3",
   "version": "3.9.12"
  },
  "orig_nbformat": 4,
  "vscode": {
   "interpreter": {
    "hash": "7812ea015bdcee6f23a998adcdd2ef97c151c0c241b7b7070987d9313e41299d"
   }
  }
 },
 "nbformat": 4,
 "nbformat_minor": 2
}
