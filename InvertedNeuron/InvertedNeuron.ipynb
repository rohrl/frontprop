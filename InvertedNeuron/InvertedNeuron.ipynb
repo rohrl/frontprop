{
 "cells": [
  {
   "attachments": {},
   "cell_type": "markdown",
   "metadata": {},
   "source": [
    "### Description\n",
    "\n",
    "This notebook implements a basic neuron using a modified signal. i.e. instead of calculating signal as:\n",
    "\n",
    "`signal = 1/mean_squared_error(neuron_weights, input_pattern)`\n",
    "\n",
    "The InvertedNeuron calculates it as \n",
    "\n",
    "`signal = mean_squared_error(neuron_weights, input_pattern)`\n",
    "\n",
    "This only required a slight modification in the weight and threshold update logic. The most notable difference being the Neuron now activates when `signal <= threshold` instead of when `signal >= threshold` which makes threshold an upper bound rather than a lower bound.\n",
    "\n",
    "The main motivation for the InvertedNeuron is efficiency. The original Neuron required a threshold which could approach infinity. This is very inefficient and does not scale well to large datasets since the threshold grows proportionally to the size of the dataset.\n",
    "\n",
    "Additionally, the InvertedNeuron experiments with using smaller, more efficient datatypes such as `np.float16`.\n",
    "Currently the improvements offered by the InvertedNeuron are backed only by intuition. More work needs to be done to compare the InvertedNeuron to the original Neuron.\n",
    "\n",
    "\n",
    "### Update After Comparison to the original Neuron\n",
    "The InvertedNeuron did not offer the expected space improvement. This is due to the original Neuron using floating point values to avoid storing large integers.\n",
    "The InvertedNeuron is potentially still worth pursuing as it has arguably simpler activation logic."
   ]
  },
  {
   "cell_type": "code",
   "execution_count": 2,
   "metadata": {},
   "outputs": [],
   "source": [
    "from sklearn.metrics import mean_squared_error\n",
    "import numpy as np\n",
    "import math"
   ]
  },
  {
   "cell_type": "code",
   "execution_count": 7,
   "metadata": {},
   "outputs": [],
   "source": [
    "class InvertedNeuron:\n",
    "    \n",
    "    float_type = np.float16\n",
    "    \n",
    "    def __init__(self, dims, t_decay, w_boost, init=np.random.rand):\n",
    "        assert len(dims) == 2\n",
    "        self.dims = dims\n",
    "        \n",
    "        # initialize neuron\n",
    "        self.t = InvertedNeuron.float_type(1.0)\n",
    "        self.W = init(*dims).flatten().astype(InvertedNeuron.float_type)\n",
    "        \n",
    "        self.t_decay = InvertedNeuron.float_type(t_decay)\n",
    "        self.w_boost = InvertedNeuron.float_type(w_boost)\n",
    "        \n",
    "        assert self.t_decay > 0\n",
    "        assert self.w_boost > 0         \n",
    "        \n",
    "    def forward(self, data):\n",
    "        assert data.shape == np.prod(self.dims)\n",
    "        \n",
    "        self.signal = InvertedNeuron.float_type(mean_squared_error(data, self.W))\n",
    "        \n",
    "        ''' \n",
    "        Logic:\n",
    "        - if pattern and neuron weights are similar then signal approaches 0\n",
    "        - if pattern and neuron weights are different then signal approaches 1\n",
    "        \n",
    "        Thus, neuron activation/excitement is redefined as if signal <= threshold\n",
    "        \n",
    "        If excited: modify weights to be more similar to input pattern and decrease threshold\n",
    "        If not excited: increase threshold\n",
    "        '''\n",
    "        self.excited = self.signal <= self.t\n",
    "        \n",
    "        if self.excited:\n",
    "            self.t = (InvertedNeuron.float_type(1) + self.t_decay) * self.signal # decrease\n",
    "            self.W += self.w_boost * (data - self.W) # shift weights towards data\n",
    "        else:\n",
    "            self.t = (InvertedNeuron.float_type(1) + self.t_decay) * self.t # increase\n",
    "\n",
    "        return self.signal\n",
    "    \n"
   ]
  },
  {
   "cell_type": "code",
   "execution_count": 8,
   "metadata": {},
   "outputs": [],
   "source": [
    "class OriginalNeuron:\n",
    "    \n",
    "    def __init__(self, dims, t_decay, w_boost, init=np.random.rand):\n",
    "        assert len(dims) == 2\n",
    "        self.dims = dims\n",
    "        \n",
    "        # initialize neuron\n",
    "        self.t = 1.0\n",
    "        self.W = init(*dims).flatten()\n",
    "        \n",
    "        self.t_decay = t_decay\n",
    "        self.w_boost = w_boost\n",
    "        \n",
    "        assert self.t_decay > 0\n",
    "        assert self.w_boost > 0        \n",
    "        \n",
    "    def forward(self, data):\n",
    "        assert data.shape == np.prod(self.dims)\n",
    "        \n",
    "        self.signal = 1.0 / mean_squared_error(data, self.W)\n",
    "        self.excited = (self.signal >= self.t)\n",
    "        \n",
    "        if self.excited:\n",
    "            self.t = (1 - self.t_decay) * self.signal\n",
    "            self.W += self.w_boost * (data - self.W)\n",
    "        else:\n",
    "            self.t *= 1 - self.t_decay\n",
    "\n",
    "        return self.signal\n",
    "    "
   ]
  },
  {
   "cell_type": "code",
   "execution_count": 9,
   "metadata": {},
   "outputs": [],
   "source": [
    "from collections import deque\n",
    "import matplotlib.pyplot as plt\n",
    "\n",
    "\n",
    "np.set_printoptions(formatter={'float': lambda x: \"{0:0.2f}\".format(x)})\n",
    "\n",
    "# plot the 2D matrix heatmap\n",
    "# supports a 2D array, or flattened (uses DIMS to restore 1D to 2D)\n",
    "def plot_matrix(dims, *datas):\n",
    "    PLOTS_PER_ROW = 20\n",
    "    cols = min(len(datas), PLOTS_PER_ROW)\n",
    "    rows = math.ceil(len(datas)/PLOTS_PER_ROW)\n",
    "    fig = plt.figure(figsize=(cols,rows))\n",
    "    for i, data in enumerate(datas):\n",
    "        if data.shape != dims:\n",
    "            data = np.reshape(data, dims)\n",
    "        fig.add_subplot(rows, cols, i+1)\n",
    "        plt.imshow(data, cmap='gray')\n",
    "        plt.axis('off')\n",
    "        # plt.title(f\"#{i}\")\n",
    "    plt.show()\n",
    "    \n",
    "    "
   ]
  },
  {
   "cell_type": "code",
   "execution_count": 10,
   "metadata": {},
   "outputs": [],
   "source": [
    "# Define input patterns\n",
    "\n",
    "DIMS = [7,7]\n",
    "\n",
    "patterns = np.array([\n",
    "    np.array([\n",
    "        [1,0,0,0,0,0,1],\n",
    "        [0,1,0,0,0,1,0],\n",
    "        [0,0,1,0,1,0,0],\n",
    "        [0,0,0,1,0,0,0],\n",
    "        [0,0,1,0,1,0,0],\n",
    "        [0,1,0,0,0,1,0],\n",
    "        [1,0,0,0,0,0,1]\n",
    "    ]),\n",
    "    np.array([\n",
    "        [0,0,0,1,0,0,0],\n",
    "        [0,0,0,1,0,0,0],\n",
    "        [0,0,0,1,0,0,0],\n",
    "        [1,1,1,1,1,1,1],\n",
    "        [0,0,0,1,0,0,0],\n",
    "        [0,0,0,1,0,0,0],\n",
    "        [0,0,0,1,0,0,0]\n",
    "    ]),\n",
    "    np.array([\n",
    "        [0,0,1,1,1,0,0],\n",
    "        [0,1,0,0,0,1,0],\n",
    "        [1,0,0,0,0,0,1],\n",
    "        [1,0,0,0,0,0,1],\n",
    "        [1,0,0,0,0,0,1],\n",
    "        [0,1,0,0,0,1,0],\n",
    "        [0,0,1,1,1,0,0]\n",
    "    ]),\n",
    "    np.array([\n",
    "        [0,1,0,0,0,0,0],\n",
    "        [0,1,0,0,0,0,0],\n",
    "        [0,1,0,0,0,0,0],\n",
    "        [0,1,0,0,0,0,0],\n",
    "        [0,1,0,0,0,0,0],\n",
    "        [0,1,0,0,0,0,0],\n",
    "        [0,1,0,0,0,0,0]\n",
    "    ]),\n",
    "    np.array([\n",
    "        [1,1,1,0,0,0,0],\n",
    "        [1,1,1,0,0,0,0],\n",
    "        [1,1,1,0,0,0,0],\n",
    "        [0,0,0,0,0,0,0],\n",
    "        [0,0,0,0,0,0,0],\n",
    "        [0,0,0,0,0,0,0],\n",
    "        [0,0,0,0,0,0,0]\n",
    "    ])\n",
    "# np.array([\n",
    "# [0,1,1,0],\n",
    "# [1,0,0,1],\n",
    "# [1,0,0,1],\n",
    "# [0,1,1,0]\n",
    "# ])\n",
    "])\n",
    "\n",
    "# Define probabilities\n",
    "\n",
    "probs = np.full(len(patterns), 1) # np.array([0.43 0.43 0.13])\n",
    "probs = probs / probs.sum()\n",
    "\n",
    "def randomly_choose_input_idx(iteration):\n",
    "    return np.random.choice(len(probs), p=probs)\n",
    "\n"
   ]
  },
  {
   "attachments": {},
   "cell_type": "markdown",
   "metadata": {},
   "source": [
    "### InvertedNeuron Example"
   ]
  },
  {
   "cell_type": "code",
   "execution_count": 11,
   "metadata": {},
   "outputs": [
    {
     "name": "stdout",
     "output_type": "stream",
     "text": [
      "\n",
      "----------------\n",
      "Running frontprop on following patterns:\n"
     ]
    },
    {
     "data": {
      "image/png": "[encoded data removed]",
      "text/plain": [
       "<Figure size 360x72 with 5 Axes>"
      ]
     },
     "metadata": {
      "needs_background": "light"
     },
     "output_type": "display_data"
    },
    {
     "name": "stdout",
     "output_type": "stream",
     "text": [
      "with probabilities:\n",
      "[0.20 0.20 0.20 0.20 0.20]\n",
      " ... and noise prob 0\n",
      "\n",
      "\n",
      "\n",
      " --- Iter #0 --- \n",
      "Neurons' weights:\n"
     ]
    },
    {
     "data": {
      "image/png": "[encoded data removed]",
      "text/plain": [
       "<Figure size 72x72 with 1 Axes>"
      ]
     },
     "metadata": {
      "needs_background": "light"
     },
     "output_type": "display_data"
    },
    {
     "name": "stdout",
     "output_type": "stream",
     "text": [
      "[0.13 0.32 0.88 0.87 0.17 0.39 0.63 0.44 0.02 0.18 0.85 0.46 0.14 0.79\n",
      " 0.34 0.20 0.22 0.49 0.32 0.39 0.79 0.86 0.96 0.35 0.83 0.00 0.68 0.98\n",
      " 0.69 0.59 0.97 0.17 0.25 0.85 0.02 0.22 1.00 0.93 0.48 0.66 0.68 0.39\n",
      " 0.73 0.63 0.76 0.61 0.45 0.39 0.11] float16\n",
      "Layer outputs:\n",
      "0.3792\n",
      "Threshold:\n",
      "0.381 float16\n",
      "\n",
      " --- Iter #500 --- \n",
      "Neurons' weights:\n"
     ]
    },
    {
     "data": {
      "image/png": "[encoded data removed]",
      "text/plain": [
       "<Figure size 72x72 with 1 Axes>"
      ]
     },
     "metadata": {
      "needs_background": "light"
     },
     "output_type": "display_data"
    },
    {
     "name": "stdout",
     "output_type": "stream",
     "text": [
      "[0.04 0.10 0.96 0.96 0.75 0.12 0.19 0.13 0.70 0.06 0.26 0.14 0.74 0.24\n",
      " 0.80 0.06 0.07 0.15 0.10 0.12 0.94 0.95 0.29 0.11 0.25 0.00 0.21 0.98\n",
      " 0.90 0.18 0.30 0.05 0.08 0.26 0.70 0.07 1.00 0.28 0.15 0.20 0.90 0.12\n",
      " 0.22 0.19 0.93 0.88 0.83 0.12 0.03] float16\n",
      "Layer outputs:\n",
      "0.321\n",
      "Threshold:\n",
      "0.03021 float16\n",
      "\n",
      " --- Iter #1000 --- \n",
      "Neurons' weights:\n"
     ]
    },
    {
     "data": {
      "image/png": "[encoded data removed]",
      "text/plain": [
       "<Figure size 72x72 with 1 Axes>"
      ]
     },
     "metadata": {
      "needs_background": "light"
     },
     "output_type": "display_data"
    },
    {
     "name": "stdout",
     "output_type": "stream",
     "text": [
      "[0.01 0.03 0.98 0.98 0.91 0.04 0.07 0.05 0.89 0.02 0.09 0.05 0.91 0.08\n",
      " 0.93 0.02 0.02 0.05 0.03 0.04 0.98 0.98 0.10 0.04 0.09 0.00 0.07 0.98\n",
      " 0.97 0.06 0.10 0.02 0.03 0.09 0.89 0.02 1.00 0.10 0.05 0.07 0.97 0.04\n",
      " 0.08 0.07 0.98 0.96 0.94 0.04 0.01] float16\n",
      "Layer outputs:\n",
      "0.3838\n",
      "Threshold:\n",
      "0.003735 float16\n",
      "\n",
      " --- Iter #1500 --- \n",
      "Neurons' weights:\n"
     ]
    },
    {
     "data": {
      "image/png": "[encoded data removed]",
      "text/plain": [
       "<Figure size 72x72 with 1 Axes>"
      ]
     },
     "metadata": {
      "needs_background": "light"
     },
     "output_type": "display_data"
    },
    {
     "name": "stdout",
     "output_type": "stream",
     "text": [
      "[0.01 0.01 0.98 0.98 0.96 0.02 0.03 0.02 0.95 0.01 0.04 0.02 0.96 0.04\n",
      " 0.97 0.01 0.01 0.02 0.01 0.02 0.98 0.98 0.04 0.02 0.04 0.00 0.03 0.98\n",
      " 0.98 0.03 0.04 0.01 0.01 0.04 0.95 0.01 1.00 0.04 0.02 0.03 0.98 0.02\n",
      " 0.03 0.03 0.98 0.98 0.98 0.02 0.00] float16\n",
      "Layer outputs:\n",
      "0.3674\n",
      "Threshold:\n",
      "0.0007653 float16\n"
     ]
    }
   ],
   "source": [
    "ITERS = 2000\n",
    "VERBOSE = False\n",
    "DRAW_INTERVAL = 500\n",
    "# Throw in some noise inputs \n",
    "# (without noise at zero, it converges very quickly - noise rate increases slows down learning exponentially!)\n",
    "NOISE_INPUTS_PROB = 0 # 0.02\n",
    "\n",
    "neuron = InvertedNeuron(DIMS,  0.005,  0.01)\n",
    "\n",
    "print(\"\\n----------------\\nRunning frontprop on following patterns:\")\n",
    "plot_matrix(DIMS, *patterns)\n",
    "print(f\"with probabilities:\\n{probs}\\n ... and noise prob {NOISE_INPUTS_PROB}\\n\\n\")\n",
    "\n",
    "for i in range(ITERS):\n",
    "    \n",
    "    if np.random.rand() < NOISE_INPUTS_PROB:\n",
    "        input = np.random.rand(*DIMS).flatten()\n",
    "    else:\n",
    "        input_idx = randomly_choose_input_idx(i)\n",
    "        input = patterns[input_idx].flatten()\n",
    "    \n",
    "    if VERBOSE:\n",
    "        print(f\"Iter #{i}: Feeding input pattern #{input_idx}\")\n",
    "        print(input)\n",
    "        plot_matrix(input)\n",
    "        \n",
    "    out = neuron.forward(input)\n",
    "    \n",
    "    if i % DRAW_INTERVAL == 0:\n",
    "        print(f\"\\n --- Iter #{i} --- \")\n",
    "        print(\"Neurons' weights:\")\n",
    "        plot_matrix(neuron.dims, neuron.W)\n",
    "        print(neuron.W, neuron.W.dtype)\n",
    "        print(\"Layer outputs:\")\n",
    "        print(out)\n",
    "        print(\"Threshold:\")\n",
    "        print(neuron.t, neuron.t.dtype)\n",
    "    "
   ]
  },
  {
   "attachments": {},
   "cell_type": "markdown",
   "metadata": {},
   "source": [
    "### Comparison of InvertedNeuron to OriginalNeuron"
   ]
  },
  {
   "cell_type": "code",
   "execution_count": 39,
   "metadata": {},
   "outputs": [
    {
     "name": "stdout",
     "output_type": "stream",
     "text": [
      "\n",
      "----------------\n",
      "Running frontprop on following pattern:\n"
     ]
    },
    {
     "data": {
      "image/png": "[encoded data removed]",
      "text/plain": [
       "<Figure size 72x72 with 1 Axes>"
      ]
     },
     "metadata": {
      "needs_background": "light"
     },
     "output_type": "display_data"
    },
    {
     "name": "stdout",
     "output_type": "stream",
     "text": [
      "InvertedNeuron threshold: \t\t\t0.00018787384033203125\n",
      "Size of InvertedNeuron threshold: \t\t26 bytes\n",
      "Elapsed execution time of InvertedNeuron: \t13.069183111190796 seconds\n",
      "OriginalNeuron threshold: \t\t\t9.888688802260371e+28\n",
      "Size of OriginalNeuron threshold: \t\t32 bytes\n",
      "Elapsed execution time of OriginalNeuron: \t12.9687979221344 seconds\n"
     ]
    }
   ],
   "source": [
    "from sys import getsizeof\n",
    "import time\n",
    "\n",
    "ITERS = 80000\n",
    "DRAW_INTERVAL = ITERS-1\n",
    "# Throw in some noise inputs \n",
    "# (without noise at zero, it converges very quickly - noise rate increases slows down learning exponentially!)\n",
    "NOISE_INPUTS_PROB = 0 # 0.02\n",
    "\n",
    "inverted_neuron = InvertedNeuron(DIMS,  0.005,  0.01)\n",
    "original_neuron = OriginalNeuron(DIMS,  0.005,  0.01)\n",
    "\n",
    "pattern = np.array([\n",
    "        [0,0,1,1,1,0,0],\n",
    "        [0,1,0,0,0,1,0],\n",
    "        [1,0,0,0,0,0,1],\n",
    "        [1,0,0,0,0,0,1],\n",
    "        [1,0,0,0,0,0,1],\n",
    "        [0,1,0,0,0,1,0],\n",
    "        [0,0,1,1,1,0,0]]).flatten()\n",
    "\n",
    "print(\"\\n----------------\\nRunning frontprop on following pattern:\")\n",
    "plot_matrix(DIMS, pattern)\n",
    "\n",
    "inverted_neuron_start_time = time.time()\n",
    "\n",
    "for i in range(ITERS):\n",
    "    inverted_out = inverted_neuron.forward(pattern)\n",
    "    \n",
    "inverted_neuron_end_time = time.time()\n",
    "original_neuron_start_time = time.time()\n",
    "\n",
    "for i in range(ITERS):\n",
    "    original_out = original_neuron.forward(pattern)\n",
    "    \n",
    "original_neuron_end_time = time.time()\n",
    "\n",
    "inverted_neuron_elapsed_time = inverted_neuron_end_time - inverted_neuron_start_time\n",
    "original_neuron_elapsed_time = original_neuron_end_time - original_neuron_start_time\n",
    "\n",
    "# print(\"Inverted neurons' weights:\")\n",
    "# plot_matrix(inverted_neuron.dims, inverted_neuron.W)\n",
    "print(f\"InvertedNeuron threshold: \\t\\t\\t{inverted_neuron.t}\")\n",
    "print(f\"Size of InvertedNeuron threshold: \\t\\t{getsizeof(inverted_neuron.t)} bytes\")\n",
    "print(f\"Elapsed execution time of InvertedNeuron: \\t{inverted_neuron_elapsed_time} seconds\")\n",
    "\n",
    "# print(\"Original neurons' weights:\")\n",
    "# plot_matrix(original_neuron.dims, original_neuron.W)\n",
    "print(f\"OriginalNeuron threshold: \\t\\t\\t{original_neuron.t}\")\n",
    "print(f\"Size of OriginalNeuron threshold: \\t\\t{getsizeof(original_neuron.t)} bytes\")\n",
    "print(f\"Elapsed execution time of OriginalNeuron: \\t{original_neuron_elapsed_time} seconds\")\n",
    "\n"
   ]
  },
  {
   "attachments": {},
   "cell_type": "markdown",
   "metadata": {},
   "source": [
    "### Random Notes \n",
    "\n",
    "Let N be the length of the input vector\n",
    "\n",
    "if input/weight vector values are in [0,1] => mean_squared_error in [0, 1] => 1/mean_squared_error in [1, inf]\n",
    "\n",
    "When W highly similar to data:\n",
    "- mean_squared_error -> 0\n",
    "- signal = 1/mean_squared_error -> inf\n",
    "\n",
    "When W has zero similarity to data:\n",
    "- mean_squared_error -> 1\n",
    "- 1/mean_squared_error -> 1"
   ]
  },
  {
   "cell_type": "code",
   "execution_count": 42,
   "metadata": {},
   "outputs": [
    {
     "name": "stdout",
     "output_type": "stream",
     "text": [
      "40\n"
     ]
    }
   ],
   "source": [
    "print(getsizeof(int(9.888688802260371e+28)))"
   ]
  },
  {
   "cell_type": "markdown",
   "metadata": {},
   "source": []
  }
 ],
 "metadata": {
  "kernelspec": {
   "display_name": "Python 3",
   "language": "python",
   "name": "python3"
  },
  "language_info": {
   "codemirror_mode": {
    "name": "ipython",
    "version": 3
   },
   "file_extension": ".py",
   "mimetype": "text/x-python",
   "name": "python",
   "nbconvert_exporter": "python",
   "pygments_lexer": "ipython3",
   "version": "3.9.12"
  },
  "orig_nbformat": 4,
  "vscode": {
   "interpreter": {
    "hash": "7812ea015bdcee6f23a998adcdd2ef97c151c0c241b7b7070987d9313e41299d"
   }
  }
 },
 "nbformat": 4,
 "nbformat_minor": 2
}
