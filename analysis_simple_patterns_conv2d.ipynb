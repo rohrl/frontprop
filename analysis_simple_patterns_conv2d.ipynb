{
 "cells": [
  {
   "cell_type": "markdown",
   "id": "d9c9638c",
   "metadata": {},
   "source": [
    "# Front-prop: convolutions on simple patterns\n",
    "Front-prop demo on simple patterns: a single fully-connected layer learning through inference."
   ]
  },
  {
   "cell_type": "code",
   "id": "bbdf6b11",
   "metadata": {
    "ExecuteTime": {
     "end_time": "2024-07-22T11:29:39.494934Z",
     "start_time": "2024-07-22T11:29:39.467339Z"
    }
   },
   "source": [
    "%load_ext autoreload\n",
    "%autoreload 2"
   ],
   "outputs": [],
   "execution_count": 1
  },
  {
   "cell_type": "code",
   "id": "1b796655",
   "metadata": {
    "ExecuteTime": {
     "end_time": "2024-07-22T11:29:41.520724Z",
     "start_time": "2024-07-22T11:29:39.496607Z"
    }
   },
   "source": [
    "import math\n",
    "import numpy as np\n",
    "import matplotlib.pyplot as plt\n",
    "import seaborn as sns\n",
    "import torch\n",
    "from tqdm.autonotebook import tqdm\n",
    "\n",
    "import fp_modules as fp\n",
    "from utils.fp_utils import sphere_rnd_gen, shanon_entropy_binned, plot_matrix\n",
    "from utils.fp_datasets import SimplePatterns"
   ],
   "outputs": [
    {
     "name": "stderr",
     "output_type": "stream",
     "text": [
      "/tmp/ipykernel_13966/4094291824.py:6: TqdmExperimentalWarning: Using `tqdm.autonotebook.tqdm` in notebook mode. Use `tqdm.tqdm` instead to force console mode (e.g. in jupyter console)\n",
      "  from tqdm.autonotebook import tqdm\n"
     ]
    }
   ],
   "execution_count": 2
  },
  {
   "cell_type": "code",
   "id": "4b29526f",
   "metadata": {
    "ExecuteTime": {
     "end_time": "2024-07-22T11:29:41.549217Z",
     "start_time": "2024-07-22T11:29:41.523273Z"
    }
   },
   "source": [
    "# If there's a GPU available...\n",
    "if torch.cuda.is_available():\n",
    "    device = torch.device(\"cuda\")  # you can continue going on here, like cuda:1 cuda:2....etc. \n",
    "    print(\"Running on the GPU\")\n",
    "else:\n",
    "    device = torch.device(\"cpu\")\n",
    "    print(\"Running on the CPU\")\n"
   ],
   "outputs": [
    {
     "name": "stdout",
     "output_type": "stream",
     "text": [
      "Running on the CPU\n"
     ]
    }
   ],
   "execution_count": 3
  },
  {
   "metadata": {},
   "cell_type": "code",
   "outputs": [],
   "execution_count": null,
   "source": [
    "# Disable gradients in torch - Frontprop does not need them.\n",
    "torch.set_grad_enabled(False)"
   ],
   "id": "c9379be1468a58c6"
  },
  {
   "cell_type": "code",
   "id": "cc1f7827",
   "metadata": {
    "ExecuteTime": {
     "end_time": "2024-07-22T11:29:41.578486Z",
     "start_time": "2024-07-22T11:29:41.551441Z"
    }
   },
   "source": "np.set_printoptions(formatter={'float': lambda x: \"{0:0.2f}\".format(x)})\n",
   "outputs": [],
   "execution_count": 4
  },
  {
   "cell_type": "markdown",
   "id": "b8a6dc81",
   "metadata": {},
   "source": "## Learn simple patterns"
  },
  {
   "metadata": {
    "ExecuteTime": {
     "end_time": "2024-07-22T11:29:41.615921Z",
     "start_time": "2024-07-22T11:29:41.580414Z"
    }
   },
   "cell_type": "code",
   "source": [
    "\n",
    "def single_layer_frontprop_run(out_size, kernel_size, iterations, patterns_probs, noise_rate, device, reports_count=5):\n",
    "    reports_interval = 0 if reports_count == 0 else int(iterations / reports_count)\n",
    "\n",
    "    layer = fp.FpConv2d(1, out_size, kernel_size=kernel_size, device=device, t_decay=0.0001, w_boost=0.005)\n",
    "\n",
    "    if reports_interval > 0:\n",
    "        print(\"\\n----------------\\nRunning frontprop on following patterns:\")\n",
    "        plot_matrix(dims, *SimplePatterns.get_all_patterns())\n",
    "        print(f\"Pattern's probabilities:\\n{patterns_probs}\\n\\n\")\n",
    "\n",
    "    with torch.no_grad():\n",
    "        for i in range(iterations):\n",
    "\n",
    "            input = SimplePatterns.get_simple_pattern(patterns_probs, noise=noise_rate) \\\n",
    "                .to(device).unsqueeze(0)\n",
    "\n",
    "            input = input.unsqueeze(0)\n",
    "\n",
    "            out = layer.forward(input)\n",
    "\n",
    "            if reports_interval > 0 and i % reports_interval == 0:\n",
    "                print(f\"\\n --- Iter #{i} - neurons weights --- \")\n",
    "                plot_matrix((kernel_size, kernel_size), *([layer.weight[i] for i in range(neurons)]))\n",
    "                # print(\"Layer outputs:\")\n",
    "                # print(out)\n",
    "                # print(\"for input\")\n",
    "                # plot_matrix(DIMS, input)\n",
    "\n",
    "    if reports_interval > 0:\n",
    "        print(f\"\\n --- Final neurons weights --- \")\n",
    "        plot_matrix((kernel_size, kernel_size), *([layer.weight[i] for i in range(neurons)]))\n",
    "\n",
    "    return layer\n",
    "\n"
   ],
   "id": "184813100467ace2",
   "outputs": [],
   "execution_count": 5
  },
  {
   "cell_type": "code",
   "id": "00eed6fb",
   "metadata": {
    "scrolled": true,
    "ExecuteTime": {
     "end_time": "2024-07-22T11:30:10.741799Z",
     "start_time": "2024-07-22T11:29:41.617511Z"
    }
   },
   "source": [
    "dims = SimplePatterns.get_pattern_dims()\n",
    "iters = 20000  # 50000\n",
    "neurons = 20\n",
    "kernel_size = 6\n",
    "\n",
    "# optionally apply small amount of gaussian noise to patterns\n",
    "noise_rate = 0.0\n",
    "\n",
    "# define patterns frequency weights (will be normalized to sum to 1)\n",
    "# change these to see the impact of frequency on neurons specialisation\n",
    "pattern_probs = [1.0] * SimplePatterns.get_all_patterns_count()  # [10,1,1,1,1,1]\n",
    "pattern_probs /= np.sum(pattern_probs)\n",
    "\n",
    "# train the Front-prop layer\n",
    "layer = single_layer_frontprop_run(neurons,\n",
    "                                   kernel_size,\n",
    "                                   iters,\n",
    "                                   pattern_probs,\n",
    "                                   noise_rate,\n",
    "                                   device, reports_count=10)\n",
    "\n"
   ],
   "outputs": [
    {
     "name": "stdout",
     "output_type": "stream",
     "text": [
      "\n",
      "----------------\n",
      "Running frontprop on following patterns:\n"
     ]
    },
    {
     "data": {
      "text/plain": [
       "<Figure size 600x100 with 6 Axes>"
      ],
      "image/png": "[encoded data removed]"
     },
     "metadata": {},
     "output_type": "display_data"
    },
    {
     "name": "stdout",
     "output_type": "stream",
     "text": [
      "Pattern's probabilities:\n",
      "[0.17 0.17 0.17 0.17 0.17 0.17]\n",
      "\n",
      "\n",
      "\n",
      " --- Iter #0 - neurons weights --- \n"
     ]
    },
    {
     "data": {
      "text/plain": [
       "<Figure size 2000x100 with 20 Axes>"
      ],
      "image/png": "[encoded data removed]"
     },
     "metadata": {},
     "output_type": "display_data"
    },
    {
     "name": "stdout",
     "output_type": "stream",
     "text": [
      "\n",
      " --- Iter #2000 - neurons weights --- \n"
     ]
    },
    {
     "data": {
      "text/plain": [
       "<Figure size 2000x100 with 20 Axes>"
      ],
      "image/png": "[encoded data removed]"
     },
     "metadata": {},
     "output_type": "display_data"
    },
    {
     "name": "stdout",
     "output_type": "stream",
     "text": [
      "\n",
      " --- Iter #4000 - neurons weights --- \n"
     ]
    },
    {
     "data": {
      "text/plain": [
       "<Figure size 2000x100 with 20 Axes>"
      ],
      "image/png": "[encoded data removed]"
     },
     "metadata": {},
     "output_type": "display_data"
    },
    {
     "name": "stdout",
     "output_type": "stream",
     "text": [
      "\n",
      " --- Iter #6000 - neurons weights --- \n"
     ]
    },
    {
     "data": {
      "text/plain": [
       "<Figure size 2000x100 with 20 Axes>"
      ],
      "image/png": "[encoded data removed]"
     },
     "metadata": {},
     "output_type": "display_data"
    },
    {
     "name": "stdout",
     "output_type": "stream",
     "text": [
      "\n",
      " --- Iter #8000 - neurons weights --- \n"
     ]
    },
    {
     "data": {
      "text/plain": [
       "<Figure size 2000x100 with 20 Axes>"
      ],
      "image/png": "[encoded data removed]"
     },
     "metadata": {},
     "output_type": "display_data"
    },
    {
     "name": "stdout",
     "output_type": "stream",
     "text": [
      "\n",
      " --- Iter #10000 - neurons weights --- \n"
     ]
    },
    {
     "data": {
      "text/plain": [
       "<Figure size 2000x100 with 20 Axes>"
      ],
      "image/png": "[encoded data removed]"
     },
     "metadata": {},
     "output_type": "display_data"
    },
    {
     "name": "stdout",
     "output_type": "stream",
     "text": [
      "\n",
      " --- Iter #12000 - neurons weights --- \n"
     ]
    },
    {
     "data": {
      "text/plain": [
       "<Figure size 2000x100 with 20 Axes>"
      ],
      "image/png": "[encoded data removed]"
     },
     "metadata": {},
     "output_type": "display_data"
    },
    {
     "name": "stdout",
     "output_type": "stream",
     "text": [
      "\n",
      " --- Iter #14000 - neurons weights --- \n"
     ]
    },
    {
     "data": {
      "text/plain": [
       "<Figure size 2000x100 with 20 Axes>"
      ],
      "image/png": "[encoded data removed]"
     },
     "metadata": {},
     "output_type": "display_data"
    },
    {
     "name": "stdout",
     "output_type": "stream",
     "text": [
      "\n",
      " --- Iter #16000 - neurons weights --- \n"
     ]
    },
    {
     "data": {
      "text/plain": [
       "<Figure size 2000x100 with 20 Axes>"
      ],
      "image/png": "[encoded data removed]"
     },
     "metadata": {},
     "output_type": "display_data"
    },
    {
     "name": "stdout",
     "output_type": "stream",
     "text": [
      "\n",
      " --- Iter #18000 - neurons weights --- \n"
     ]
    },
    {
     "data": {
      "text/plain": [
       "<Figure size 2000x100 with 20 Axes>"
      ],
      "image/png": "[encoded data removed]"
     },
     "metadata": {},
     "output_type": "display_data"
    },
    {
     "name": "stdout",
     "output_type": "stream",
     "text": [
      "\n",
      " --- Final neurons weights --- \n"
     ]
    },
    {
     "data": {
      "text/plain": [
       "<Figure size 2000x100 with 20 Axes>"
      ],
      "image/png": "[encoded data removed]"
     },
     "metadata": {},
     "output_type": "display_data"
    }
   ],
   "execution_count": 6
  },
  {
   "metadata": {
    "ExecuteTime": {
     "end_time": "2024-07-22T11:30:11.959071Z",
     "start_time": "2024-07-22T11:30:11.954233Z"
    }
   },
   "cell_type": "code",
   "source": "",
   "id": "8cd564676cd03ef1",
   "outputs": [],
   "execution_count": 8
  }
 ],
 "metadata": {
  "kernelspec": {
   "display_name": "Python 3 (ipykernel)",
   "language": "python",
   "name": "python3"
  },
  "language_info": {
   "codemirror_mode": {
    "name": "ipython",
    "version": 3
   },
   "file_extension": ".py",
   "mimetype": "text/x-python",
   "name": "python",
   "nbconvert_exporter": "python",
   "pygments_lexer": "ipython3",
   "version": "3.10.11"
  }
 },
 "nbformat": 4,
 "nbformat_minor": 5
}
